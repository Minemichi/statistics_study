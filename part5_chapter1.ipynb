{
 "cells": [
  {
   "cell_type": "markdown",
   "metadata": {},
   "source": [
    "# 第5部　正規線形モデル｜Pythonで学ぶ統計学入門\n",
    "\n",
    "## 1章　1つの連続型の説明変数を持つモデル\n",
    "\n",
    "正規線形モデルをPythonで推定していく。\n",
    "最初は連続型の説明変数が1つだけある正規線形モデルを対象とする。これは単回帰モデルとも呼ばれます。\n",
    "\n",
    "### 分析の準備"
   ]
  },
  {
   "cell_type": "code",
   "execution_count": 1,
   "metadata": {},
   "outputs": [
    {
     "name": "stderr",
     "output_type": "stream",
     "text": [
      "/Users/kaito/anaconda/lib/python3.6/site-packages/statsmodels/compat/pandas.py:56: FutureWarning: The pandas.core.datetools module is deprecated and will be removed in a future version. Please use the pandas.tseries module instead.\n",
      "  from pandas.core import datetools\n"
     ]
    }
   ],
   "source": [
    "# 数値計算に使うライブラリ\n",
    "import numpy as np\n",
    "import pandas as pd\n",
    "import scipy as sp\n",
    "from scipy import stats\n",
    "\n",
    "# グラフを描画するライブラリ\n",
    "from matplotlib import pyplot as plt\n",
    "import seaborn as sns\n",
    "sns.set()\n",
    "\n",
    "# 統計モデルを推定するライブラリ(ワーニングが出ることもあります)\n",
    "import statsmodels.formula.api as smf\n",
    "import statsmodels.api as sm\n",
    "\n",
    "# 表示桁数の指定\n",
    "%precision 3\n",
    "# グラフをjupyter Notebook内に表示させるための指定\n",
    "%matplotlib inline"
   ]
  },
  {
   "cell_type": "markdown",
   "metadata": {},
   "source": [
    "### 実装：データの読み込みと図示"
   ]
  },
  {
   "cell_type": "code",
   "execution_count": 2,
   "metadata": {},
   "outputs": [
    {
     "name": "stdout",
     "output_type": "stream",
     "text": [
      "   beer  temperature\n",
      "0  45.3         20.5\n",
      "1  59.3         25.0\n",
      "2  40.4         10.0\n",
      "3  38.0         26.9\n",
      "4  37.0         15.8\n"
     ]
    }
   ],
   "source": [
    "# データの読み込み\n",
    "beer = pd.read_csv(\"5-1-1-beer.csv\")\n",
    "print(beer.head())"
   ]
  },
  {
   "cell_type": "code",
   "execution_count": 3,
   "metadata": {},
   "outputs": [
    {
     "name": "stderr",
     "output_type": "stream",
     "text": [
      "/Users/kaito/anaconda/lib/python3.6/site-packages/scipy/stats/stats.py:1633: FutureWarning: Using a non-tuple sequence for multidimensional indexing is deprecated; use `arr[tuple(seq)]` instead of `arr[seq]`. In the future this will be interpreted as an array index, `arr[np.array(seq)]`, which will result either in an error or a different result.\n",
      "  return np.add.reduce(sorted[indexer] * weights, axis=axis) / sumval\n"
     ]
    },
    {
     "data": {
      "text/plain": [
       "<seaborn.axisgrid.JointGrid at 0x119ab85c0>"
      ]
     },
     "execution_count": 3,
     "metadata": {},
     "output_type": "execute_result"
    },
    {
     "data": {
      "image/png": "[encoded data removed]",
      "text/plain": [
       "<matplotlib.figure.Figure at 0x119ab8630>"
      ]
     },
     "metadata": {},
     "output_type": "display_data"
    }
   ],
   "source": [
    "# 図示\n",
    "sns.jointplot(x = \"temperature\", y = \"beer\", \n",
    "              data = beer, color = 'black')"
   ]
  },
  {
   "cell_type": "markdown",
   "metadata": {},
   "source": [
    "分析の第一ステップとして、可視化してデータの特徴をつかみましょう。\n",
    "\n",
    "pearsonr=0.71で、図から気温（横軸）とビールの売上（縦軸）との間で正の相関がみられる。"
   ]
  },
  {
   "cell_type": "markdown",
   "metadata": {},
   "source": [
    "### 実装：statsmodelsによるモデル化\n",
    "\n",
    "$$ビールの売上\\ \\tilde \\ \\ \\ \\ \\cal{N}(\\beta_0 + \\beta_1 \\times 気温\\ ,\\ \\sigma^2)$$\n",
    "\n",
    "応答変数にビールの売上を、説明変数に気温を用いた正規線形モデル。\n",
    "\n",
    "推定するパラメータとしては式にある係数$\\beta_0$：切片と$\\beta_1$：傾きを推定する。ただし、$\\sigma^2$は局外パラメータ（分散は平均から計算可能）なので無視する。\n",
    "\n",
    "\n",
    "ここで、モデルを構築するメリットのおさらい\n",
    "* 現象の解釈ができる\n",
    "    * 係数$\\beta_1$が0でないと判断できれば、「ビールの売上は気温の影響を受けている」と判断できる\n",
    "    * 係数$\\beta_1$の正負が分かれば「気温が上がることによって、ビールの売上が上がるのか下がるのか」を判断できる\n",
    "* 予測ができる\n",
    "    * 気温$t$のときはビールの売上は$\\beta_0 + \\beta_1 \\times t$になると予測できる"
   ]
  },
  {
   "cell_type": "code",
   "execution_count": 4,
   "metadata": {
    "collapsed": true
   },
   "outputs": [],
   "source": [
    "# モデルの構築\n",
    "# 母集団分布に正規分布を仮定したときの最尤法は最小二乗法の結果と一致する（第4部より）\n",
    "lm_model = smf.ols(formula = \"beer ~ temperature\", # OLSは通常の最小二乗法（Ordinary Least Squares）の略\n",
    "                   data = beer).fit() # fitでパラメータ推定"
   ]
  },
  {
   "cell_type": "markdown",
   "metadata": {},
   "source": [
    "### 実装：推定結果の表示と係数の検定"
   ]
  },
  {
   "cell_type": "code",
   "execution_count": 5,
   "metadata": {},
   "outputs": [
    {
     "data": {
      "text/html": [
       "<table class=\"simpletable\">\n",
       "<caption>OLS Regression Results</caption>\n",
       "<tr>\n",
       "  <th>Dep. Variable:</th>          <td>beer</td>       <th>  R-squared:         </th> <td>   0.504</td>\n",
       "</tr>\n",
       "<tr>\n",
       "  <th>Model:</th>                   <td>OLS</td>       <th>  Adj. R-squared:    </th> <td>   0.486</td>\n",
       "</tr>\n",
       "<tr>\n",
       "  <th>Method:</th>             <td>Least Squares</td>  <th>  F-statistic:       </th> <td>   28.45</td>\n",
       "</tr>\n",
       "<tr>\n",
       "  <th>Date:</th>             <td>Mon, 07 Jan 2019</td> <th>  Prob (F-statistic):</th> <td>1.11e-05</td>\n",
       "</tr>\n",
       "<tr>\n",
       "  <th>Time:</th>                 <td>19:12:39</td>     <th>  Log-Likelihood:    </th> <td> -102.45</td>\n",
       "</tr>\n",
       "<tr>\n",
       "  <th>No. Observations:</th>      <td>    30</td>      <th>  AIC:               </th> <td>   208.9</td>\n",
       "</tr>\n",
       "<tr>\n",
       "  <th>Df Residuals:</th>          <td>    28</td>      <th>  BIC:               </th> <td>   211.7</td>\n",
       "</tr>\n",
       "<tr>\n",
       "  <th>Df Model:</th>              <td>     1</td>      <th>                     </th>     <td> </td>   \n",
       "</tr>\n",
       "<tr>\n",
       "  <th>Covariance Type:</th>      <td>nonrobust</td>    <th>                     </th>     <td> </td>   \n",
       "</tr>\n",
       "</table>\n",
       "<table class=\"simpletable\">\n",
       "<tr>\n",
       "       <td></td>          <th>coef</th>     <th>std err</th>      <th>t</th>      <th>P>|t|</th>  <th>[0.025</th>    <th>0.975]</th>  \n",
       "</tr>\n",
       "<tr>\n",
       "  <th>Intercept</th>   <td>   34.6102</td> <td>    3.235</td> <td>   10.699</td> <td> 0.000</td> <td>   27.984</td> <td>   41.237</td>\n",
       "</tr>\n",
       "<tr>\n",
       "  <th>temperature</th> <td>    0.7654</td> <td>    0.144</td> <td>    5.334</td> <td> 0.000</td> <td>    0.471</td> <td>    1.059</td>\n",
       "</tr>\n",
       "</table>\n",
       "<table class=\"simpletable\">\n",
       "<tr>\n",
       "  <th>Omnibus:</th>       <td> 0.587</td> <th>  Durbin-Watson:     </th> <td>   1.960</td>\n",
       "</tr>\n",
       "<tr>\n",
       "  <th>Prob(Omnibus):</th> <td> 0.746</td> <th>  Jarque-Bera (JB):  </th> <td>   0.290</td>\n",
       "</tr>\n",
       "<tr>\n",
       "  <th>Skew:</th>          <td>-0.240</td> <th>  Prob(JB):          </th> <td>   0.865</td>\n",
       "</tr>\n",
       "<tr>\n",
       "  <th>Kurtosis:</th>      <td> 2.951</td> <th>  Cond. No.          </th> <td>    52.5</td>\n",
       "</tr>\n",
       "</table>"
      ],
      "text/plain": [
       "<class 'statsmodels.iolib.summary.Summary'>\n",
       "\"\"\"\n",
       "                            OLS Regression Results                            \n",
       "==============================================================================\n",
       "Dep. Variable:                   beer   R-squared:                       0.504\n",
       "Model:                            OLS   Adj. R-squared:                  0.486\n",
       "Method:                 Least Squares   F-statistic:                     28.45\n",
       "Date:                Mon, 07 Jan 2019   Prob (F-statistic):           1.11e-05\n",
       "Time:                        19:12:39   Log-Likelihood:                -102.45\n",
       "No. Observations:                  30   AIC:                             208.9\n",
       "Df Residuals:                      28   BIC:                             211.7\n",
       "Df Model:                           1                                         \n",
       "Covariance Type:            nonrobust                                         \n",
       "===============================================================================\n",
       "                  coef    std err          t      P>|t|      [0.025      0.975]\n",
       "-------------------------------------------------------------------------------\n",
       "Intercept      34.6102      3.235     10.699      0.000      27.984      41.237\n",
       "temperature     0.7654      0.144      5.334      0.000       0.471       1.059\n",
       "==============================================================================\n",
       "Omnibus:                        0.587   Durbin-Watson:                   1.960\n",
       "Prob(Omnibus):                  0.746   Jarque-Bera (JB):                0.290\n",
       "Skew:                          -0.240   Prob(JB):                        0.865\n",
       "Kurtosis:                       2.951   Cond. No.                         52.5\n",
       "==============================================================================\n",
       "\n",
       "Warnings:\n",
       "[1] Standard Errors assume that the covariance matrix of the errors is correctly specified.\n",
       "\"\"\""
      ]
     },
     "execution_count": 5,
     "metadata": {},
     "output_type": "execute_result"
    }
   ],
   "source": [
    "# 推定結果の表示\n",
    "lm_model.summary()"
   ]
  },
  {
   "cell_type": "markdown",
   "metadata": {},
   "source": [
    "まずは中央部のInterceptやtemperatureと書かれた箇所のみに注目する。"
   ]
  },
  {
   "cell_type": "code",
   "execution_count": 6,
   "metadata": {},
   "outputs": [
    {
     "data": {
      "text/html": [
       "<table class=\"simpletable\">\n",
       "<tr>\n",
       "       <td></td>          <th>coef</th>     <th>std err</th>      <th>t</th>      <th>P>|t|</th>  <th>[0.025</th>    <th>0.975]</th>  \n",
       "</tr>\n",
       "<tr>\n",
       "  <th>Intercept</th>   <td>   34.6102</td> <td>    3.235</td> <td>   10.699</td> <td> 0.000</td> <td>   27.984</td> <td>   41.237</td>\n",
       "</tr>\n",
       "<tr>\n",
       "  <th>temperature</th> <td>    0.7654</td> <td>    0.144</td> <td>    5.334</td> <td> 0.000</td> <td>    0.471</td> <td>    1.059</td>\n",
       "</tr>\n",
       "</table>"
      ],
      "text/plain": [
       "<class 'statsmodels.iolib.table.SimpleTable'>"
      ]
     },
     "execution_count": 6,
     "metadata": {},
     "output_type": "execute_result"
    }
   ],
   "source": [
    "# 中央部分のみに注目\n",
    "lm_model.summary().tables[1]"
   ]
  },
  {
   "cell_type": "markdown",
   "metadata": {},
   "source": [
    "$$ビールの売上\\ \\tilde \\ \\ \\ \\ \\cal{N}(\\beta_0 + \\beta_1 \\times 気温\\ ,\\ \\sigma^2)\\ \\ \\ (再掲)$$\n",
    "\n",
    "Intercept(切片)とtemperatureが$\\beta_0$と$\\beta_1$に当たる。\n",
    "\n",
    "* coef : 係数の値そのもの\n",
    "* std err : 係数の標準誤差\n",
    "* t : $t$値\n",
    "* P>|t| : 帰無仮説を「係数の値が0である」としたときの$p$値\n",
    "* [0.025\t0.975] : 95%信頼区間における下側信頼限界と上側信頼限界\n",
    "\n",
    "$p$値から、気温にかかる係数は有意に0とは異なると判断できる（$p$値があまりにも小さすぎて、桁落ちで0となっている）→　気温がビールの売上に影響を与えることがわかる。\n",
    "\n",
    "係数temperatureの値が0.7654であることから、「気温が上がるとビールの売上が上がる」と解釈できる。\n",
    "\n",
    "この程度の解釈であれば冒頭で示した散布図からもわかるが、説明変数が増えるなどして複雑なモデルになると、モデルを構築してその係数を見たほうが、解釈が簡単になる（**モデルを構築するメリット：現象の解釈ができる**）。"
   ]
  },
  {
   "cell_type": "markdown",
   "metadata": {},
   "source": [
    "summary関数の出力の意味を確認していく。\n",
    "\n",
    "最下段は後ほどモデルの評価の際に確認することとして、ここでは最上段を解説する。"
   ]
  },
  {
   "cell_type": "code",
   "execution_count": 7,
   "metadata": {},
   "outputs": [
    {
     "data": {
      "text/html": [
       "<table class=\"simpletable\">\n",
       "<caption>OLS Regression Results</caption>\n",
       "<tr>\n",
       "  <th>Dep. Variable:</th>          <td>beer</td>       <th>  R-squared:         </th> <td>   0.504</td>\n",
       "</tr>\n",
       "<tr>\n",
       "  <th>Model:</th>                   <td>OLS</td>       <th>  Adj. R-squared:    </th> <td>   0.486</td>\n",
       "</tr>\n",
       "<tr>\n",
       "  <th>Method:</th>             <td>Least Squares</td>  <th>  F-statistic:       </th> <td>   28.45</td>\n",
       "</tr>\n",
       "<tr>\n",
       "  <th>Date:</th>             <td>Mon, 07 Jan 2019</td> <th>  Prob (F-statistic):</th> <td>1.11e-05</td>\n",
       "</tr>\n",
       "<tr>\n",
       "  <th>Time:</th>                 <td>19:15:15</td>     <th>  Log-Likelihood:    </th> <td> -102.45</td>\n",
       "</tr>\n",
       "<tr>\n",
       "  <th>No. Observations:</th>      <td>    30</td>      <th>  AIC:               </th> <td>   208.9</td>\n",
       "</tr>\n",
       "<tr>\n",
       "  <th>Df Residuals:</th>          <td>    28</td>      <th>  BIC:               </th> <td>   211.7</td>\n",
       "</tr>\n",
       "<tr>\n",
       "  <th>Df Model:</th>              <td>     1</td>      <th>                     </th>     <td> </td>   \n",
       "</tr>\n",
       "<tr>\n",
       "  <th>Covariance Type:</th>      <td>nonrobust</td>    <th>                     </th>     <td> </td>   \n",
       "</tr>\n",
       "</table>"
      ],
      "text/plain": [
       "<class 'statsmodels.iolib.table.SimpleTable'>"
      ]
     },
     "execution_count": 7,
     "metadata": {},
     "output_type": "execute_result"
    }
   ],
   "source": [
    "# summary関数の出力の説明（最上段）\n",
    "lm_model.summary().tables[0]"
   ]
  },
  {
   "cell_type": "markdown",
   "metadata": {},
   "source": [
    "* Dep.Variable : 応答変数の名称。DepはDependedで従属変数という意味\n",
    "* Model・Method : OLSと書かれているのは通常の最小二乗法を用いたという説明\n",
    "* Date・Time : モデルが推定された日時\n",
    "* No.Observations : サンプルサイズ\n",
    "* Df Residuals : サンプルサイズから「推定されたパラメータ数」を引いたもの\n",
    "* Df Model : 用いられた説明変数の数\n",
    "* Covariance Type : 共分散のタイプ。特に指定しなければnonrubstになる\n",
    "* R-Squared・Adj.R-Squared : 決定係数と自由度調整済み決定係数（後述）\n",
    "* F-statistic・Prob (F-statistic) : 分散分析の結果（次章で解説）\n",
    "* Log-Likelihood : 最大化対数尤度\n",
    "* AIC : 赤池情報規準（$-2 \\times (最大化対数尤度 - 推定されたパラメータ数)$）\n",
    "* BIC : ベイズ情報規準（$−2 \\times 最大化対数尤度 + 推定されたパラメータ数 \\times \\log(サンプルサイズ)$）"
   ]
  },
  {
   "cell_type": "markdown",
   "metadata": {},
   "source": [
    "### 実装：AICによるモデル選択\n",
    "\n",
    "続いて、AICによるモデル選択を行う。\n",
    "\n",
    "説明変数が1つしかないため、NullモデルのAICと気温という説明変数が入ったモデルのAICを比較することで、モデル選択を行う。"
   ]
  },
  {
   "cell_type": "code",
   "execution_count": 8,
   "metadata": {
    "collapsed": true
   },
   "outputs": [],
   "source": [
    "# NULLモデル\n",
    "null_model = smf.ols(\"beer ~ 1\", data = beer).fit() # 説明変数がないときは\"beer ~ 1\"と指定する"
   ]
  },
  {
   "cell_type": "code",
   "execution_count": 9,
   "metadata": {},
   "outputs": [
    {
     "data": {
      "text/plain": [
       "227.942"
      ]
     },
     "execution_count": 9,
     "metadata": {},
     "output_type": "execute_result"
    }
   ],
   "source": [
    "# NULLモデルのAIC\n",
    "null_model.aic"
   ]
  },
  {
   "cell_type": "code",
   "execution_count": 10,
   "metadata": {},
   "outputs": [
    {
     "data": {
      "text/plain": [
       "208.909"
      ]
     },
     "execution_count": 10,
     "metadata": {},
     "output_type": "execute_result"
    }
   ],
   "source": [
    "# 説明変数入りのモデルのAIC\n",
    "lm_model.aic"
   ]
  },
  {
   "cell_type": "markdown",
   "metadata": {},
   "source": [
    "説明変数入りモデルの方が小さなAICとなったので、「気温という説明変数があった方が、予測精度が高くなるのではないか」と判断されることになる。"
   ]
  },
  {
   "cell_type": "markdown",
   "metadata": {},
   "source": [
    "ここで、AICの計算方法の復習をする。AICは、\n",
    "$$-2 \\times (最大化対数尤度 - 推定されたパラメータ数)$$\n",
    "で求められる。\n",
    "\n",
    "最大化対数尤度は`lm_model.llf`、用いられた説明変数の数は`lm_model.df_model`で取得できる。\n",
    "\n",
    "今回は、用いた説明変数の数はtemperatureのみ。しかし、実際に推定されたパラメータには切片$\\beta_0$も含まれるので、`lm_model.df_model`に1を足してAICを計算する。"
   ]
  },
  {
   "cell_type": "code",
   "execution_count": 11,
   "metadata": {},
   "outputs": [
    {
     "data": {
      "text/plain": [
       "208.909"
      ]
     },
     "execution_count": 11,
     "metadata": {},
     "output_type": "execute_result"
    }
   ],
   "source": [
    "# AIC\n",
    "-2*(lm_model.llf - (lm_model.df_model + 1))"
   ]
  },
  {
   "cell_type": "markdown",
   "metadata": {},
   "source": [
    "#### メモ：AIC算出にはいくつか流儀がある\n",
    "\n",
    "「推定されたパラメータ数」にはいくつかの流儀がある。\n",
    "今回は、局外パラメータをパラメータの個数に含まなかったが、これを含めてAICを求める場合もある（この場合はAICが210.909となる）。\n",
    "R言語など他のツールでは局外パラメータの数が含まれていることもある。\n",
    "\n",
    "AICはその値の大小に興味がある指標である。同じ流儀で計算されている限り、AICの大小関係は崩れないので、モデル選択において悪影響はない。\n",
    "ただし、他のツールやライブラリ間でAICを比較することは避けたほうがいい。"
   ]
  },
  {
   "cell_type": "markdown",
   "metadata": {},
   "source": [
    "### 回帰直線\n",
    "\n",
    "回帰直線とは、モデルによる応答変数の推測値を直線で示したもの。\n",
    "\n",
    "応答変数が連続型の変数であった場合は「回帰」と呼ぶ伝統があるのでその名前が使われる。非線形なモデルの場合は「回帰曲線」と呼ばれることもある。"
   ]
  },
  {
   "cell_type": "markdown",
   "metadata": {},
   "source": [
    "### 実装：seabornによる回帰直線の図示"
   ]
  },
  {
   "cell_type": "code",
   "execution_count": 12,
   "metadata": {},
   "outputs": [
    {
     "name": "stderr",
     "output_type": "stream",
     "text": [
      "/Users/kaito/anaconda/lib/python3.6/site-packages/scipy/stats/stats.py:1633: FutureWarning: Using a non-tuple sequence for multidimensional indexing is deprecated; use `arr[tuple(seq)]` instead of `arr[seq]`. In the future this will be interpreted as an array index, `arr[np.array(seq)]`, which will result either in an error or a different result.\n",
      "  return np.add.reduce(sorted[indexer] * weights, axis=axis) / sumval\n"
     ]
    },
    {
     "data": {
      "text/plain": [
       "<seaborn.axisgrid.FacetGrid at 0x11bedfdd8>"
      ]
     },
     "execution_count": 12,
     "metadata": {},
     "output_type": "execute_result"
    },
    {
     "data": {
      "image/png": "[encoded data removed]",
      "text/plain": [
       "<matplotlib.figure.Figure at 0x11bedf908>"
      ]
     },
     "metadata": {},
     "output_type": "display_data"
    }
   ],
   "source": [
    "# 散布図に回帰直線を加えたグラフ\n",
    "# 網掛け部分は回帰直線の95%信頼区間を表している\n",
    "sns.lmplot(x = \"temperature\", y = \"beer\", data = beer, # lmplotは、*l*inear regression *m*odel *plot*の略？\n",
    "           scatter_kws = {\"color\": \"black\"}, # 散布図のデザインの指定\n",
    "           line_kws    = {\"color\": \"black\"}) # 回帰直線のデザインの指定"
   ]
  },
  {
   "cell_type": "markdown",
   "metadata": {},
   "source": [
    "### 実装：モデルによる予測\n",
    "\n",
    "推定されたモデルに対して`predict`関数を適用することで予測ができる。\n",
    "\n",
    "引数になにも指定しなかった場合は、訓練データへの当てはめ値がそのまま出力される。"
   ]
  },
  {
   "cell_type": "code",
   "execution_count": 13,
   "metadata": {},
   "outputs": [
    {
     "data": {
      "text/plain": [
       "array([50.301, 53.746, 42.264, 55.2  , 46.704, 37.825, 44.943, 54.511,\n",
       "       52.445, 41.116, 54.664, 49.23 , 53.21 , 52.445, 41.04 , 52.598,\n",
       "       45.25 , 61.783, 55.43 , 50.301, 42.418, 50.301, 51.143, 40.657,\n",
       "       66.911, 52.904, 62.854, 41.423, 62.472, 39.509])"
      ]
     },
     "execution_count": 13,
     "metadata": {},
     "output_type": "execute_result"
    }
   ],
   "source": [
    "# 当てはめ値\n",
    "lm_model.predict()"
   ]
  },
  {
   "cell_type": "markdown",
   "metadata": {},
   "source": [
    "気温の値をデータフレームの形式で指定して予測を行うこともできる。"
   ]
  },
  {
   "cell_type": "code",
   "execution_count": 14,
   "metadata": {},
   "outputs": [
    {
     "data": {
      "text/plain": [
       "0    34.610215\n",
       "dtype: float64"
      ]
     },
     "execution_count": 14,
     "metadata": {},
     "output_type": "execute_result"
    }
   ],
   "source": [
    "# 気温が0度のときのビールの売上の期待値を予測。切片の推定値（34.6102）と一致する。\n",
    "lm_model.predict(pd.DataFrame({\"temperature\":[0]}))"
   ]
  },
  {
   "cell_type": "markdown",
   "metadata": {},
   "source": [
    "### 実装：残差の取得\n",
    "\n",
    "モデルの評価方法を説明する。\n",
    "本来は予測を行う前にモデルの評価をしておくとよいでしょう。\n",
    "\n",
    "モデルの評価は主に残差のチェックを通して行われる。\n",
    "正規線形モデルの場合は、残差が平均0の正規分布に従うはずなので、そのとおりになっているかをチェックする（時系列データを予測するときにも残差のチェックは行われる）。\n",
    "\n",
    "残差の分布の確認は後述。"
   ]
  },
  {
   "cell_type": "code",
   "execution_count": 15,
   "metadata": {},
   "outputs": [
    {
     "data": {
      "text/plain": [
       "0   -5.001481\n",
       "1    5.554095\n",
       "2   -1.864491\n",
       "dtype: float64"
      ]
     },
     "execution_count": 15,
     "metadata": {},
     "output_type": "execute_result"
    }
   ],
   "source": [
    "# 残差の取得\n",
    "resid = lm_model.resid\n",
    "resid.head(3)"
   ]
  },
  {
   "cell_type": "code",
   "execution_count": 16,
   "metadata": {},
   "outputs": [
    {
     "data": {
      "text/plain": [
       "-0.000"
      ]
     },
     "execution_count": 16,
     "metadata": {},
     "output_type": "execute_result"
    }
   ],
   "source": [
    "# 残差の平均はほぼ0になっている。\n",
    "resid.mean()"
   ]
  },
  {
   "cell_type": "markdown",
   "metadata": {},
   "source": [
    "理解を深めるため、別途計算する。\n",
    "\n",
    "残差は$\\ \\ residuals = y - \\hat{y}\\ \\ $で求められる。\n",
    "ただし、$\\hat{y}\\ =\\ \\beta_0 + \\beta_1 \\times 気温$\n",
    "\n",
    "まずは当てはめ値$\\ \\hat{y}\\ $を計算する。\n",
    "これは、`lm_model.fittedvalues`や`lm_model.predict()`（引数になにも指定しなかった場合は、訓練データへの当てはめ値がそのまま出力する）としても同じ。"
   ]
  },
  {
   "cell_type": "code",
   "execution_count": 17,
   "metadata": {},
   "outputs": [
    {
     "data": {
      "text/plain": [
       "0    50.301481\n",
       "1    53.745905\n",
       "2    42.264491\n",
       "Name: temperature, dtype: float64"
      ]
     },
     "execution_count": 17,
     "metadata": {},
     "output_type": "execute_result"
    }
   ],
   "source": [
    "# 愚直に当てはめ値の計算\n",
    "beta0 = lm_model.params[0]\n",
    "beta1 = lm_model.params[1]\n",
    "\n",
    "y_hat = beta0 + beta1 * beer.temperature\n",
    "y_hat.head(3)"
   ]
  },
  {
   "cell_type": "code",
   "execution_count": 18,
   "metadata": {},
   "outputs": [
    {
     "data": {
      "text/plain": [
       "0    50.301481\n",
       "1    53.745905\n",
       "2    42.264491\n",
       "dtype: float64"
      ]
     },
     "execution_count": 18,
     "metadata": {},
     "output_type": "execute_result"
    }
   ],
   "source": [
    "# 当てはめ値の取得\n",
    "lm_model.fittedvalues.head(3)"
   ]
  },
  {
   "cell_type": "code",
   "execution_count": 19,
   "metadata": {},
   "outputs": [
    {
     "data": {
      "text/plain": [
       "0   -5.001481\n",
       "1    5.554095\n",
       "2   -1.864491\n",
       "dtype: float64"
      ]
     },
     "execution_count": 19,
     "metadata": {},
     "output_type": "execute_result"
    }
   ],
   "source": [
    "# 手計算で残差を求める\n",
    "(beer.beer - y_hat).head(3)"
   ]
  },
  {
   "cell_type": "markdown",
   "metadata": {},
   "source": [
    "### 決定係数\n",
    "\n",
    "summary関数の出力にあるR-squaredは決定係数と呼ばれる指標で、「手持ちのデータへのモデルの当てはまりの度合いを評価した指標」。\n",
    "\n",
    "$y$を応答変数、$\\ \\hat{y}\\ $をモデルによる推測値、$\\mu$を$y$の平均値としたとき、決定係数は以下のように計算される。\n",
    "\n",
    "$$R^2 = \\frac{\\sum_{i=1}^N (\\hat{y_i} - \\mu)^2}{\\sum_{i=1}^N (y_i - \\mu)^2}$$\n",
    "\n",
    "モデルによる推測値が応答変数の実際の値と一致していれば、$R^2$は1になる。\n",
    "\n",
    "補足として、決定係数の意味するところを確認する。\n",
    "\n",
    "残差は「$\\ residuals = y - \\hat{y}\\ $」で計算される。式変形すると、「$\\ y = \\hat{y} + residuals \\ $」となる。\n",
    "決定係数の分母$\\sum_{i=1}^N (y_i - \\mu)^2$は以下のように分解することができる。\n",
    "\n",
    "$$\\sum_{i=1}^N (y_i - \\mu)^2 = \\sum_{i=1}^N (\\hat{y_i} - \\mu)^2 + \\sum_{i=1}^N residuals^2 \\cdots (*)$$\n",
    "\n",
    "これは、応答変数の変動の大きさ$\\sum_{i=1}^N (y_i - \\mu)^2$をモデルで説明できた変動とモデルで説明できなかった残差平方和で分けることができるということ。\n",
    "このため、決定係数は「全体の変動の大きさに占める、モデルで説明できた変動の割合」と解釈される。\n",
    "\n",
    "この関係があるため、決定係数は以下のようしても表すことができる。\n",
    "\n",
    "$$R^2 = \\frac{\\sum_{i=1}^N (y_i - \\mu)^2 - \\sum_{i=1}^N residuals^2}{\\sum_{i=1}^N (y_i - \\mu)^2} = 1 - \\frac{\\sum_{i=1}^N residuals^2}{\\sum_{i=1}^N (y_i - \\mu)^2}$$\n",
    "\n",
    "\n",
    "図にしてわかりやすいと思った決定係数の解説は[27-4. 決定係数と重相関係数 | 統計学の時間 | 統計WEB](https://bellcurve.jp/statistics/course/9706.html)。"
   ]
  },
  {
   "cell_type": "markdown",
   "metadata": {},
   "source": [
    "### 実装：決定係数"
   ]
  },
  {
   "cell_type": "code",
   "execution_count": 20,
   "metadata": {},
   "outputs": [
    {
     "data": {
      "text/plain": [
       "0.504"
      ]
     },
     "execution_count": 20,
     "metadata": {},
     "output_type": "execute_result"
    }
   ],
   "source": [
    "# 決定係数\n",
    "mu = sp.mean(beer.beer)\n",
    "y = beer.beer\n",
    "yhat = lm_model.predict()\n",
    "\n",
    "sp.sum((yhat - mu)**2) / sp.sum((y - mu)**2)"
   ]
  },
  {
   "cell_type": "code",
   "execution_count": 21,
   "metadata": {},
   "outputs": [
    {
     "data": {
      "text/plain": [
       "0.504"
      ]
     },
     "execution_count": 21,
     "metadata": {},
     "output_type": "execute_result"
    }
   ],
   "source": [
    "# 以下のように取得できる\n",
    "lm_model.rsquared"
   ]
  },
  {
   "cell_type": "markdown",
   "metadata": {},
   "source": [
    "念のため、「応答変数の変動の大きさ$\\sum_{i=1}^N (y_i - \\mu)^2$をモデルで説明できた変動とモデルで説明できなかった残差平方和で分けることができる」ことをPythonで確かめる。"
   ]
  },
  {
   "cell_type": "code",
   "execution_count": 22,
   "metadata": {},
   "outputs": [
    {
     "data": {
      "text/plain": [
       "3277.115"
      ]
     },
     "execution_count": 22,
     "metadata": {},
     "output_type": "execute_result"
    }
   ],
   "source": [
    "# (*)の右辺\n",
    "sp.sum((yhat - mu)**2) + sum(resid**2)"
   ]
  },
  {
   "cell_type": "code",
   "execution_count": 23,
   "metadata": {},
   "outputs": [
    {
     "data": {
      "text/plain": [
       "3277.115"
      ]
     },
     "execution_count": 23,
     "metadata": {},
     "output_type": "execute_result"
    }
   ],
   "source": [
    "# (*)の左辺\n",
    "sp.sum((y - mu)**2)"
   ]
  },
  {
   "cell_type": "markdown",
   "metadata": {},
   "source": [
    "### 自由度調整済み決定係数\n",
    "\n",
    "説明変数の数が増えるという罰則を組み込んだ決定係数を自由度調整済み決定係数と呼ぶ。\n",
    "\n",
    "決定係数は説明変数の数を増やせば増やすほどに大きな値になる。決定係数を高めることにこだわると過学習を起こすため、調整が必要となる（「不要な説明変数を加えても当てはめ精度は高くなるが、予測精度は不要な説明変数を除くことで高くなることが知られている」第4部：変数選択の意義より）。\n",
    "\n",
    "自由度調整済み決定係数は以下のように計算される。ただし、$s$は説明変数の数。\n",
    "\n",
    "$$R^2 = 1 - \\frac{\\sum_{i=1}^N residuals^2 / (N-s-1)}{\\sum_{i=1}^N (y_i - \\mu)^2 / (N-1)}$$"
   ]
  },
  {
   "cell_type": "code",
   "execution_count": null,
   "metadata": {
    "collapsed": true
   },
   "outputs": [],
   "source": []
  },
  {
   "cell_type": "markdown",
   "metadata": {},
   "source": [
    "### 実装：自由度調整済み決定係数"
   ]
  },
  {
   "cell_type": "code",
   "execution_count": 24,
   "metadata": {},
   "outputs": [
    {
     "data": {
      "text/plain": [
       "0.486"
      ]
     },
     "execution_count": 24,
     "metadata": {},
     "output_type": "execute_result"
    }
   ],
   "source": [
    "# 式を実装\n",
    "n = len(beer.beer)\n",
    "s = 1\n",
    "1 - ((sp.sum(resid**2) / (n - s - 1)) / \n",
    "    (sp.sum((y - mu)**2) / (n - 1)))"
   ]
  },
  {
   "cell_type": "code",
   "execution_count": 25,
   "metadata": {},
   "outputs": [
    {
     "data": {
      "text/plain": [
       "0.486"
      ]
     },
     "execution_count": 25,
     "metadata": {},
     "output_type": "execute_result"
    }
   ],
   "source": [
    "# statsmodelsを使う\n",
    "lm_model.rsquared_adj"
   ]
  },
  {
   "cell_type": "markdown",
   "metadata": {},
   "source": [
    "### 実装：残差の図示\n",
    "\n",
    "残差の特徴をつかむ最も簡単な方法は、残差のヒストグラムを描くこと。\n",
    "\n",
    "ヒストグラムを見て、正規分布の特徴を持っているかを目で確認する。"
   ]
  },
  {
   "cell_type": "code",
   "execution_count": 26,
   "metadata": {},
   "outputs": [
    {
     "name": "stderr",
     "output_type": "stream",
     "text": [
      "/Users/kaito/anaconda/lib/python3.6/site-packages/scipy/stats/stats.py:1633: FutureWarning: Using a non-tuple sequence for multidimensional indexing is deprecated; use `arr[tuple(seq)]` instead of `arr[seq]`. In the future this will be interpreted as an array index, `arr[np.array(seq)]`, which will result either in an error or a different result.\n",
      "  return np.add.reduce(sorted[indexer] * weights, axis=axis) / sumval\n"
     ]
    },
    {
     "data": {
      "text/plain": [
       "<matplotlib.axes._subplots.AxesSubplot at 0x11bd67898>"
      ]
     },
     "execution_count": 26,
     "metadata": {},
     "output_type": "execute_result"
    },
    {
     "data": {
      "image/png": "[encoded data removed]",
      "text/plain": [
       "<matplotlib.figure.Figure at 0x119ba4be0>"
      ]
     },
     "metadata": {},
     "output_type": "display_data"
    }
   ],
   "source": [
    "# 残差のヒストグラム\n",
    "sns.distplot(resid, color = 'black')"
   ]
  },
  {
   "cell_type": "markdown",
   "metadata": {},
   "source": [
    "見た感じ、左右対称で正規分布に従っているように見える。\n",
    "\n",
    "次に、X軸に当てはめ値、Y軸に残差をおいた散布図をプロットする。\n",
    "\n",
    "これが完全にランダムであり、相関もないことを確認する。"
   ]
  },
  {
   "cell_type": "code",
   "execution_count": 27,
   "metadata": {},
   "outputs": [
    {
     "name": "stderr",
     "output_type": "stream",
     "text": [
      "/Users/kaito/anaconda/lib/python3.6/site-packages/scipy/stats/stats.py:1633: FutureWarning: Using a non-tuple sequence for multidimensional indexing is deprecated; use `arr[tuple(seq)]` instead of `arr[seq]`. In the future this will be interpreted as an array index, `arr[np.array(seq)]`, which will result either in an error or a different result.\n",
      "  return np.add.reduce(sorted[indexer] * weights, axis=axis) / sumval\n"
     ]
    },
    {
     "data": {
      "text/plain": [
       "<seaborn.axisgrid.JointGrid at 0x11bef15f8>"
      ]
     },
     "execution_count": 27,
     "metadata": {},
     "output_type": "execute_result"
    },
    {
     "data": {
      "image/png": "[encoded data removed]",
      "text/plain": [
       "<matplotlib.figure.Figure at 0x11bf11358>"
      ]
     },
     "metadata": {},
     "output_type": "display_data"
    }
   ],
   "source": [
    "# 残差の散布図\n",
    "sns.jointplot(lm_model.fittedvalues, resid, \n",
    "              joint_kws={\"color\": \"black\"}, \n",
    "              marginal_kws={\"color\": \"black\"})"
   ]
  },
  {
   "cell_type": "markdown",
   "metadata": {},
   "source": [
    "### 実装：Q-Qプロット\n",
    "\n",
    "理論上の分位点と実際のデータの分位点を散布図としてプロットしたグラフを**Q-Qプロット**と呼ぶ。(QはQuantile、分位点の略)\n",
    "\n",
    "（復習）データを小さいものから順に並べたときに25%の位置にあるデータを第一四分位数、75%の位置にあるデータを第三四分位数というもの。\n",
    "\n",
    "正規分布の理論上の分位点と実際のデータの分位点を求めて、両者を比較することで残差が正規分布に近いかを比較する目的でQ-Qプロットを使う。"
   ]
  },
  {
   "cell_type": "markdown",
   "metadata": {},
   "source": [
    "### 実装：Q-Qプロット\n",
    "\n",
    "Q-Qプロットはsm.qqplot関数を使うことで作成できる。`line = \"s\"`と指定することで「残差が正規分布に従っていればこの線上にポイントされる」という目安を図示してくれる。\n",
    "\n",
    "今回は綺麗にデータが線上に乗っているので問題なさそう。\n",
    "\n",
    "（Q-Qプロットの自作はスキップする）"
   ]
  },
  {
   "cell_type": "code",
   "execution_count": 28,
   "metadata": {},
   "outputs": [
    {
     "data": {
      "image/png": "[encoded data removed]",
      "text/plain": [
       "<matplotlib.figure.Figure at 0x11c205b70>"
      ]
     },
     "metadata": {},
     "output_type": "display_data"
    }
   ],
   "source": [
    "# Q-Qプロット\n",
    "fig = sm.qqplot(resid, line = \"s\")"
   ]
  },
  {
   "cell_type": "markdown",
   "metadata": {},
   "source": [
    "### summary関数の出力で見る残差のチェック\n",
    "\n",
    "残差のチェック結果はsummary関数で出力される。\n",
    "結果は最下段の表に注目する。\n",
    "\n",
    "Prob(Omnibus)、Prob(JB)が残差の正規性の検定結果を示す。\n",
    "\n",
    "* 帰無仮説：残差は正規分布に従っている\n",
    "* 対立仮説：残差は正規分布と異なる\n",
    "\n",
    "この$p$値が0.05よりも大きいことを確認する。検定の非対称があるので$p$値が0.05よりも大きかったとしても「正規分布である」と主張ができないことに注意。こういった検定は「明らかな問題があるかどうか」を判断するもの。\n",
    "\n",
    "正規分布と異なっているか否かを判断する際に、Skew（歪度、わいど）やKurtosis（尖度、せんど）といった指標を用いる。\n",
    "\n",
    "* 歪度：ヒストグラムの左右非対称さの方向とその程度を測る指標。0よりも大きければ右の裾が長くなる。正規分布は左右対称なのでこの値が0となる。\n",
    "* 尖度：ヒストグラムの中心の周辺の部分の尖り度合いを測る指標。値が大きいほど尖っていることになる。正規分布の尖度は3となっている。\n",
    "\n",
    "$$Skew = E(\\frac{(x - \\mu)^3}{\\sigma^3})$$\n",
    "$$Kurtosis = E(\\frac{(x - \\mu)^4}{\\sigma^4})$$\n",
    "\n",
    "Durbin-Watsonは残差の自己相関をチェックする指標。およそ2前後であれば問題ないと判断される。\n",
    "特に時系列データを対象とした分析をする場合は、必ず Durbin-Watsonが2前後であることをチェックする。\n",
    "\n",
    "残差に自己相関があると、係数の$t$検定の結果などが信用できなくなってしまう。この問題を**見せかけの回帰**と呼ぶ。Durbin-Watson統計量が2よりも大きくずれていれば、一般化最小二乗法などの使用を検討する必要がある。"
   ]
  },
  {
   "cell_type": "code",
   "execution_count": 29,
   "metadata": {},
   "outputs": [
    {
     "data": {
      "text/html": [
       "<table class=\"simpletable\">\n",
       "<tr>\n",
       "  <th>Omnibus:</th>       <td> 0.587</td> <th>  Durbin-Watson:     </th> <td>   1.960</td>\n",
       "</tr>\n",
       "<tr>\n",
       "  <th>Prob(Omnibus):</th> <td> 0.746</td> <th>  Jarque-Bera (JB):  </th> <td>   0.290</td>\n",
       "</tr>\n",
       "<tr>\n",
       "  <th>Skew:</th>          <td>-0.240</td> <th>  Prob(JB):          </th> <td>   0.865</td>\n",
       "</tr>\n",
       "<tr>\n",
       "  <th>Kurtosis:</th>      <td> 2.951</td> <th>  Cond. No.          </th> <td>    52.5</td>\n",
       "</tr>\n",
       "</table>"
      ],
      "text/plain": [
       "<class 'statsmodels.iolib.table.SimpleTable'>"
      ]
     },
     "execution_count": 29,
     "metadata": {},
     "output_type": "execute_result"
    }
   ],
   "source": [
    "# 推定結果の表示\n",
    "lm_model.summary().tables[2]"
   ]
  },
  {
   "cell_type": "code",
   "execution_count": null,
   "metadata": {
    "collapsed": true
   },
   "outputs": [],
   "source": []
  }
 ],
 "metadata": {
  "kernelspec": {
   "display_name": "Python 3",
   "language": "python",
   "name": "python3"
  },
  "language_info": {
   "codemirror_mode": {
    "name": "ipython",
    "version": 3
   },
   "file_extension": ".py",
   "mimetype": "text/x-python",
   "name": "python",
   "nbconvert_exporter": "python",
   "pygments_lexer": "ipython3",
   "version": "3.6.1"
  }
 },
 "nbformat": 4,
 "nbformat_minor": 2
}
