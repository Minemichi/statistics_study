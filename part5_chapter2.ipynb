{
 "cells": [
  {
   "cell_type": "markdown",
   "metadata": {},
   "source": [
    "# 第5部　正規線形モデル｜Pythonで学ぶ統計学入門\n",
    "\n",
    "## 2章　分散分析\n",
    "\n",
    "この章では、分散分析の理論とPythonを用いた実装の方法を解説する。\n",
    "\n",
    "分散分析は正規線形モデルにおいて幅広く用いられる検定手法。古典的な一元配置分散分析の説明の後、正規線形モデルにおける分散分析の位置付けを説明する。\n",
    "\n",
    "### 2-1 この章の例題\n",
    "\n",
    "応答変数として売上を、説明変数として天気のみを用いる。\n",
    "天気は曇り・雨・晴れという3つの水準を持つ。古典的な用語でいうと一元配置分散分析と呼ばれる手法。\n",
    "天気によって、売上が変化するといえるかどうかをこれから検定する。\n",
    "\n",
    "### 2-2 分散分析が必要になるタイミング\n",
    "\n",
    "* 分散分析は平均値の差を検定する手法\n",
    "* 分散分析は母集団が正規分布に従うデータに対してのみ適用可能で、水準の間で分散の値が異ならないという条件を満たさなければならない\n",
    "* 平均値の差の検定といえば、t検定だが、単純なt検定が適用できない場面がある\n",
    "    * $t$検定は「薬を飲む前と飲んだ後」といったように**2つの水準間における平均値の差を検定**\n",
    "    * 分散分析は「晴れor雨or曇りと天気が変わることによって売上が変化すると言えるかどうか」といったように3つ以上の水準をもつデータが対象\n",
    "* 正規線形モデルの枠組みでみると幅広い対象に適用が可能となる（後述）\n",
    "    \n",
    "### 2-3 検定の多重性\n",
    "\n",
    "検定を繰り返すことで有意な結果が得られやすくなってしまう問題を**検定の多重性**と呼ばれる。\n",
    "\n",
    "有意水準を0.05と定めて検定を行ったとする。第一種の過誤を犯す確率は5%。\n",
    "検定を2回続けて行い、「少なくともどちらか片方の検定において帰無仮説を棄却できれば対立仮説を採用する」というルールで検定を行ったとする。\n",
    "すると、第一種の過誤を犯す確率は「$1-(0.95 \\times 0.95) = 0.0975$」となり、ほぼ10%となる。検定を繰り返すことによって、帰無仮説が棄却されやすくなる。\n",
    "\n",
    "例えば、晴れor雨or曇りという3つの水準で売上が異なるかを検定する際に「晴れVS雨」「雨VS曇り」「晴れVS曇り」の3つの組み合わせにおいて$t$検定を行うと、検定の多重性の問題が生じる。一方、分散分析だと晴れとか雨とかいった個別のカテゴリを見るのではなく、「天気によってビールの売上が異なるかどうか」を一度の検定で判断することができるようになる。"
   ]
  },
  {
   "cell_type": "code",
   "execution_count": 5,
   "metadata": {},
   "outputs": [
    {
     "data": {
      "text/plain": [
       "<matplotlib.text.Text at 0x1215a3dd8>"
      ]
     },
     "execution_count": 5,
     "metadata": {},
     "output_type": "execute_result"
    },
    {
     "data": {
      "image/png": "[encoded data removed]",
      "text/plain": [
       "<matplotlib.figure.Figure at 0x121616588>"
      ]
     },
     "metadata": {},
     "output_type": "display_data"
    }
   ],
   "source": [
    "plt.plot(range(200), [1-.95**x for x in range(200)])\n",
    "plt.xlabel('Test')\n",
    "plt.ylabel('Error')\n",
    "plt.title('1-0.95^x')"
   ]
  },
  {
   "cell_type": "markdown",
   "metadata": {},
   "source": [
    "### 2-4 分散分析の直感的な考え方：F比\n",
    "\n",
    "分散分析の帰無仮説と対立仮説は以下の通り。\n",
    "\n",
    "* 帰無仮説：水準間で平均値に差はない\n",
    "* 対立仮説：水準間で平均値に差がある\n",
    "\n",
    "分散分析では、データの変動を「誤差」と「効果」に分離し、F比と呼ばれる統計量を計算する\n",
    "\n",
    "$$F比 = \\frac{効果の分散の大きさ}{誤差の分散の大きさ}$$\n",
    "\n",
    "* 効果：「天気がもたらす売上の変動」　→　「天気が変わることによるデータのばらつきの大きさ」\n",
    "* 誤差：「天気という変数を用いて説明することができなかった、ビールの売上の変動」　→　「残差の分散」\n",
    "\n",
    "分散の比をとって統計量として検定を行うことから分散分析やANOVA（ANalysis Of VAiance）とも呼ばれる。\n",
    "\n",
    "F比が大きければ、誤差に比べて効果の影響が大きいと判断できる。母集団分布が等分散正規分布であるときのF比の標本分布はすでに明らかになっていて、**F分布**と呼ばれる。\n",
    "F分布の累積分布関数を用いて$p$値を計算し、$p$値が0.05以下となった場合に帰無仮説を棄却するという流れは$t$検定と同様。\n",
    "\n",
    "### 2-5 有意差が出るときと出ないときのバイオリンプロット\n",
    "\n",
    "分散分析という検定手法のイメージをつかんでいただくために、有意差が出るときと出ないときのデータの特徴を確認していく。\n",
    "図2−1は「明らかに有意差があると判断できるとき」のバイオリンプロット。図2−2は、有意差が得られないデータのバイオリンプロット。\n",
    "グラフをみただけで有意差の判断ができそうだが、定量的な基準を用いた判断を試みる場合には分散分析が必要。\n",
    "\n",
    "<img src=\"violin_plot.png\" width=\"400\">\n",
    "\n",
    "<img src=\"violin_plot2.png\" width=\"400\">\n",
    "\n",
    "### 2-6 分散分析の直感的な考え方：誤差と効果の分離\n",
    "\n",
    "誤差の大きさ、効果の大きさというものに対して、図を用いた直感的な解釈を試みる。\n",
    "\n",
    "<img src=\"violin_plot_description.png\" width=\"400\">\n",
    "\n",
    "各々のバイオリンは天気という水準ごとに分かれている。\n",
    "\n",
    "* バイオリン同士が離れていること　→　「天気の効果の大きさ」（F比の分子）\n",
    "* バイオリン単体の幅　→　「誤差の大きさ」（F比の分母）\n",
    "\n",
    "\n",
    "### 2-7 群間変動・群内変動\n",
    "\n",
    "* **群間変動**：バイオリン同士の距離、すなわち効果の大きさのこと\n",
    "* **群内変動**：各々のバイオリンの幅、すなわち誤差の大きさのこと\n",
    "\n",
    "分散分析では、データのぶんさんを↑のふたつに分けた上で、その比をとり、統計量として検定を行う。"
   ]
  },
  {
   "cell_type": "markdown",
   "metadata": {},
   "source": [
    "### 分析の準備\n",
    "\n",
    "Pythonを使って分散分析を実装していく。"
   ]
  },
  {
   "cell_type": "code",
   "execution_count": 1,
   "metadata": {},
   "outputs": [
    {
     "name": "stderr",
     "output_type": "stream",
     "text": [
      "/Users/kaito/anaconda/lib/python3.6/site-packages/statsmodels/compat/pandas.py:56: FutureWarning: The pandas.core.datetools module is deprecated and will be removed in a future version. Please use the pandas.tseries module instead.\n",
      "  from pandas.core import datetools\n"
     ]
    }
   ],
   "source": [
    "# 数値計算に使うライブラリ\n",
    "import numpy as np\n",
    "import pandas as pd\n",
    "import scipy as sp\n",
    "from scipy import stats\n",
    "\n",
    "# グラフを描画するライブラリ\n",
    "from matplotlib import pyplot as plt\n",
    "import seaborn as sns\n",
    "sns.set()\n",
    "\n",
    "# 統計モデルを推定するライブラリ(ワーニングが出ることもあります)\n",
    "import statsmodels.formula.api as smf\n",
    "import statsmodels.api as sm\n",
    "\n",
    "# 表示桁数の指定\n",
    "%precision 3\n",
    "# グラフをjupyter Notebook内に表示させるための指定\n",
    "%matplotlib inline"
   ]
  },
  {
   "cell_type": "markdown",
   "metadata": {},
   "source": [
    "### データの作成と表示\n",
    "\n",
    "今回は計算結果を見やすくするために、あえて小さなデータを対象とする"
   ]
  },
  {
   "cell_type": "code",
   "execution_count": 2,
   "metadata": {},
   "outputs": [
    {
     "name": "stdout",
     "output_type": "stream",
     "text": [
      "   beer weather\n",
      "0     6  cloudy\n",
      "1     8  cloudy\n",
      "2     2   rainy\n",
      "3     4   rainy\n",
      "4    10   sunny\n",
      "5    12   sunny\n"
     ]
    }
   ],
   "source": [
    "# サンプルデータの作成\n",
    "weather = [\n",
    "    \"cloudy\",\"cloudy\",\n",
    "    \"rainy\",\"rainy\",\n",
    "    \"sunny\",\"sunny\"\n",
    "]\n",
    "beer = [6,8,2,4,10,12]\n",
    "\n",
    "# データフレームにまとめる\n",
    "weather_beer = pd.DataFrame({\n",
    "    \"beer\"   : beer,\n",
    "    \"weather\": weather\n",
    "})\n",
    "print(weather_beer)"
   ]
  },
  {
   "cell_type": "code",
   "execution_count": 4,
   "metadata": {},
   "outputs": [
    {
     "data": {
      "text/plain": [
       "<matplotlib.axes._subplots.AxesSubplot at 0x121b505c0>"
      ]
     },
     "execution_count": 4,
     "metadata": {},
     "output_type": "execute_result"
    },
    {
     "data": {
      "image/png": "[encoded data removed]",
      "text/plain": [
       "<matplotlib.figure.Figure at 0x11faa1588>"
      ]
     },
     "metadata": {},
     "output_type": "display_data"
    }
   ],
   "source": [
    "# サンプルサイズが小さいのでバイオリンプロットではなく、箱髭図を描く\n",
    "sns.boxplot(x = \"weather\",y = \"beer\",\n",
    "            data = weather_beer, color='gray')"
   ]
  },
  {
   "cell_type": "markdown",
   "metadata": {},
   "source": [
    "天気ごとの売上の平均値を計算する。雨の日は売上が少なく、晴れの日は多く、曇の日はその中間であることがわかる。"
   ]
  },
  {
   "cell_type": "code",
   "execution_count": 5,
   "metadata": {},
   "outputs": [
    {
     "name": "stdout",
     "output_type": "stream",
     "text": [
      "         beer\n",
      "weather      \n",
      "cloudy      7\n",
      "rainy       3\n",
      "sunny      11\n"
     ]
    }
   ],
   "source": [
    "# 各データの平均値\n",
    "print(weather_beer.groupby(\"weather\").mean())"
   ]
  },
  {
   "cell_type": "markdown",
   "metadata": {},
   "source": [
    "### 実装：分散分析①群間・群内平方和の計算\n",
    "\n",
    "最初はパッケージを使わないで一元配置分散分析を実装してみる。\n",
    "\n",
    "まずは効果の大きさ、すなわち群間変動から計算する。\n",
    "\n",
    "天気毎の売上の平均値はすでに計算済みで、例えば曇りの日の売上の平均値は7。ここで、「天気が曇りになることによって売上は7万円になると期待できる」と考える。他も同様に雨の日は3万円、晴れの日は11万円になると考える。\n",
    "\n",
    "すると、曇りの日も雨の日も晴れの日も2日ずつあるので、天気による影響だけを考えた場合の売上は以下のようになると期待される。"
   ]
  },
  {
   "cell_type": "code",
   "execution_count": 6,
   "metadata": {
    "collapsed": true
   },
   "outputs": [],
   "source": [
    "# 天気の持つ影響\n",
    "effect = [7,7,3,3,11,11]"
   ]
  },
  {
   "cell_type": "markdown",
   "metadata": {},
   "source": [
    "このeffectのばらつきの大きさを求めることで、群間変動を得ることができる。\n",
    "群間変動の分子に当たる群間の偏差平方和を計算する。"
   ]
  },
  {
   "cell_type": "code",
   "execution_count": 7,
   "metadata": {},
   "outputs": [
    {
     "data": {
      "text/plain": [
       "64.000"
      ]
     },
     "execution_count": 7,
     "metadata": {},
     "output_type": "execute_result"
    }
   ],
   "source": [
    "# 群間の平方和\n",
    "mu_effect = sp.mean(effect)\n",
    "squares_model = sp.sum((effect - mu_effect) ** 2 )\n",
    "squares_model"
   ]
  },
  {
   "cell_type": "markdown",
   "metadata": {},
   "source": [
    "一方、誤差は元データから効果を引くことによって計算される。"
   ]
  },
  {
   "cell_type": "code",
   "execution_count": 8,
   "metadata": {},
   "outputs": [
    {
     "data": {
      "text/plain": [
       "0   -1\n",
       "1    1\n",
       "2   -1\n",
       "3    1\n",
       "4   -1\n",
       "5    1\n",
       "Name: beer, dtype: int64"
      ]
     },
     "execution_count": 8,
     "metadata": {},
     "output_type": "execute_result"
    }
   ],
   "source": [
    "# 天気では説明することができない誤差\n",
    "resid = weather_beer.beer - effect\n",
    "resid"
   ]
  },
  {
   "cell_type": "markdown",
   "metadata": {},
   "source": [
    "こちらも同じく群内の偏差平方和を求める。\n",
    "誤差の平均値は0であることに注意。"
   ]
  },
  {
   "cell_type": "code",
   "execution_count": 9,
   "metadata": {},
   "outputs": [
    {
     "data": {
      "text/plain": [
       "6"
      ]
     },
     "execution_count": 9,
     "metadata": {},
     "output_type": "execute_result"
    }
   ],
   "source": [
    "# 群内の平方和\n",
    "squares_resid = sp.sum(resid ** 2)\n",
    "squares_resid"
   ]
  },
  {
   "cell_type": "markdown",
   "metadata": {},
   "source": [
    "### 実装：分散分析②群間・群内分散の計算\n",
    "\n",
    "不偏分散を計算するときにサンプルサイズで割らず、−1したように、\n",
    "分散分析でも、群間・群内の分散を計算する際の分母は単なるサンプルサイズにならず、自由度と呼ばれるもので割る。\n",
    "\n",
    "群間変動の自由度は、水準の種類数に左右される。\n",
    "今回は曇り・雨・晴れの3種類の水準があったので、そこから1を引いて、群間変動の自由度は2となる。\n",
    "\n",
    "郡内変動の自由度は、サンプルサイズと水準の種類数に左右される。\n",
    "今回はサンプルサイズが6で、水準が3種類あったので、6-3=3が郡内変動の自由度となる。"
   ]
  },
  {
   "cell_type": "code",
   "execution_count": 10,
   "metadata": {
    "collapsed": true
   },
   "outputs": [],
   "source": [
    "df_model = 2 # 群間変動の自由度\n",
    "df_resid = 3 # 群内変動の自由度"
   ]
  },
  {
   "cell_type": "code",
   "execution_count": 11,
   "metadata": {},
   "outputs": [
    {
     "data": {
      "text/plain": [
       "32.000"
      ]
     },
     "execution_count": 11,
     "metadata": {},
     "output_type": "execute_result"
    }
   ],
   "source": [
    "# 群間の平均平方(分散)\n",
    "variance_model = squares_model / df_model\n",
    "variance_model"
   ]
  },
  {
   "cell_type": "code",
   "execution_count": 12,
   "metadata": {},
   "outputs": [
    {
     "data": {
      "text/plain": [
       "2.000"
      ]
     },
     "execution_count": 12,
     "metadata": {},
     "output_type": "execute_result"
    }
   ],
   "source": [
    "# 群内の平均平方(分散)\n",
    "variance_resid = squares_resid / df_resid\n",
    "variance_resid"
   ]
  },
  {
   "cell_type": "markdown",
   "metadata": {},
   "source": [
    "### 実装：分散分析③p値の計算\n",
    "\n",
    "最後に$F$比と$p$値を計算する。\n",
    "F比は、以下のように計算される。\n",
    "\n",
    "$$F比 = \\frac{効果の分散の大きさ}{誤差の分散の大きさ}$$"
   ]
  },
  {
   "cell_type": "code",
   "execution_count": 13,
   "metadata": {},
   "outputs": [
    {
     "data": {
      "text/plain": [
       "16.000"
      ]
     },
     "execution_count": 13,
     "metadata": {},
     "output_type": "execute_result"
    }
   ],
   "source": [
    "# F比\n",
    "f_ratio = variance_model / variance_resid\n",
    "f_ratio"
   ]
  },
  {
   "cell_type": "markdown",
   "metadata": {},
   "source": [
    "$p$値は$F$分布の累積分布関数から計算することができる。`sp.stats.f.cdf`関数を使う。\n",
    "引数には$F$比と2つの自由度を指定する。"
   ]
  },
  {
   "cell_type": "code",
   "execution_count": 14,
   "metadata": {},
   "outputs": [
    {
     "data": {
      "text/plain": [
       "0.025"
      ]
     },
     "execution_count": 14,
     "metadata": {},
     "output_type": "execute_result"
    }
   ],
   "source": [
    "# p値\n",
    "1 - sp.stats.f.cdf(x = f_ratio, dfn = df_model, dfd = df_resid)"
   ]
  },
  {
   "cell_type": "markdown",
   "metadata": {},
   "source": [
    "$p$値が0.05以下となった。\n",
    "ここで、分散分析の帰無仮説と対立仮説は以下の通りなので、天気によって売上は有意に変化すると判断できる。\n",
    "\n",
    "* 帰無仮説：水準間で平均値に差はない\n",
    "* 対立仮説：水準間で平均値に差がある\n",
    "\n",
    "以上が一元配置分散分析の計算方法。\n",
    "\n",
    "※ 本来はサンプルサイズがもっと大きなデータに対して適用するべきであることに注意。"
   ]
  },
  {
   "cell_type": "markdown",
   "metadata": {},
   "source": [
    "### 2-13 説明変数がカテゴリ型である正規線形モデル\n",
    "\n",
    "続いて、正規線形モデルという枠組みから分散分析を解釈していく。\n",
    "\n",
    "天気から売上を予測する正規線形モデルは以下のようになる。\n",
    "\n",
    "$$ビールの売上\\ \\tilde \\ \\ \\ \\ \\cal{N}(\\beta_0 + \\beta_1 \\times 雨 + \\beta_2 \\times 晴\\ ,\\ \\sigma^2)$$\n",
    "\n",
    "ここで「雨」とは天気が雨だったときに1を、それ以外の日には0をとる変数とする。「晴」も同様。\n",
    "$\\beta_1$は雨の影響を表すパラメータ、$\\beta_2$は晴れの影響を表すパラメータ。\n",
    "雨でも晴れでもない場合は、$\\beta_0$だけが残るので、これが曇りの係数と解釈する。"
   ]
  },
  {
   "cell_type": "markdown",
   "metadata": {},
   "source": [
    "### 2-14 ダミー変数\n",
    "\n",
    "先程の「雨」、「晴」のように雨の日あるいは晴れの日は1、それ以外は0の値をとる変数をダミー変数と呼ぶ。"
   ]
  },
  {
   "cell_type": "markdown",
   "metadata": {},
   "source": [
    "### 実装：statsmodelsによる分散分析\n",
    "\n",
    "一元配置分散分析を行ったデータを、正規線形モデルの枠組みでモデル化する。\n",
    "\n",
    "カテゴリ型の変数であっても`smf.ols`関数を使ってモデル化することができる。"
   ]
  },
  {
   "cell_type": "code",
   "execution_count": 15,
   "metadata": {
    "collapsed": true
   },
   "outputs": [],
   "source": [
    "# 正規線形モデルの構築\n",
    "anova_model = smf.ols(\"beer ~ weather\", \n",
    "                      data = weather_beer).fit()"
   ]
  },
  {
   "cell_type": "markdown",
   "metadata": {},
   "source": [
    "`sm.stats.anova_lm`関数を用いて分散分析を実行することができる。「`typ=2`」とした意味は次章で解説。"
   ]
  },
  {
   "cell_type": "code",
   "execution_count": 16,
   "metadata": {},
   "outputs": [
    {
     "name": "stdout",
     "output_type": "stream",
     "text": [
      "          sum_sq   df     F    PR(>F)\n",
      "weather     64.0  2.0  16.0  0.025095\n",
      "Residual     6.0  3.0   NaN       NaN\n"
     ]
    }
   ],
   "source": [
    "# 分散分析の結果\n",
    "print(sm.stats.anova_lm(anova_model, typ=2))"
   ]
  },
  {
   "cell_type": "markdown",
   "metadata": {},
   "source": [
    "### 2-16 分散分析表\n",
    "\n",
    "`sm.stats.anova_lm`関数で出力された形式の↑の表を**分散分析表**と呼ぶ。\n",
    "\n",
    "分散分析表には、群間・群内の偏差平方和`sum_sq`、自由度`df`、そして$F$比と$p$値がまとめられている。"
   ]
  },
  {
   "cell_type": "markdown",
   "metadata": {},
   "source": [
    "### モデルの係数の解釈"
   ]
  },
  {
   "cell_type": "code",
   "execution_count": 17,
   "metadata": {},
   "outputs": [
    {
     "data": {
      "text/plain": [
       "Intercept           7.0\n",
       "weather[T.rainy]   -4.0\n",
       "weather[T.sunny]    4.0\n",
       "dtype: float64"
      ]
     },
     "execution_count": 17,
     "metadata": {},
     "output_type": "execute_result"
    }
   ],
   "source": [
    "anova_model.params"
   ]
  },
  {
   "cell_type": "markdown",
   "metadata": {},
   "source": [
    "推定されたモデルの係数は↑のようになる。\n",
    "\n",
    "$$ビールの売上\\ \\tilde \\ \\ \\ \\ \\cal{N}(\\beta_0 + \\beta_1 \\times 雨 + \\beta_2 \\times 晴\\ ,\\ \\sigma^2)$$\n",
    "\n",
    "Interceptは$\\beta_0$に対応する。これは曇りの日の売上の平均は7になるということを意味している。\n",
    "雨の日には係数`weather[T.rainy]`が加わるので7-4=3となる。\n",
    "晴れの日は逆に4を足すことになるので、晴れの日の売上の期待値は11となる。"
   ]
  },
  {
   "cell_type": "markdown",
   "metadata": {},
   "source": [
    "### モデルを用いて誤差と効果を分離する\n",
    "\n",
    "推定されたモデルの係数を用いて、訓練データに対する当てはめ結果を見てみましょう。"
   ]
  },
  {
   "cell_type": "code",
   "execution_count": 18,
   "metadata": {},
   "outputs": [
    {
     "data": {
      "text/plain": [
       "0     7.0\n",
       "1     7.0\n",
       "2     3.0\n",
       "3     3.0\n",
       "4    11.0\n",
       "5    11.0\n",
       "dtype: float64"
      ]
     },
     "execution_count": 18,
     "metadata": {},
     "output_type": "execute_result"
    }
   ],
   "source": [
    "#当てはめ値\n",
    "fitted = anova_model.fittedvalues\n",
    "fitted"
   ]
  },
  {
   "cell_type": "markdown",
   "metadata": {},
   "source": [
    "この当てはめ結果は、各水準の平均値と一致する。\n",
    "説明変数をカテゴリ型の変数にした正規線形モデルの推測値は、各水準の平均値と一致する。\n",
    "\n",
    "残差は以下のように取得できる。\n",
    "これら2つを使うことで分散分析を行うことができるが、計算は省略。"
   ]
  },
  {
   "cell_type": "code",
   "execution_count": 19,
   "metadata": {},
   "outputs": [
    {
     "data": {
      "text/plain": [
       "0   -1.0\n",
       "1    1.0\n",
       "2   -1.0\n",
       "3    1.0\n",
       "4   -1.0\n",
       "5    1.0\n",
       "dtype: float64"
      ]
     },
     "execution_count": 19,
     "metadata": {},
     "output_type": "execute_result"
    }
   ],
   "source": [
    "# 残差\n",
    "anova_model.resid"
   ]
  },
  {
   "cell_type": "markdown",
   "metadata": {
    "collapsed": true
   },
   "source": [
    "### 回帰モデルにおける分散分析\n",
    "\n",
    "分散分析は、説明変数にカテゴリ型変数を使おうが、連続型変数を使おうが、正規線形モデルにおいて一般的に用いることができる。\n",
    "\n",
    "第1章と同じモデルを再度計算する。"
   ]
  },
  {
   "cell_type": "code",
   "execution_count": 20,
   "metadata": {
    "collapsed": true
   },
   "outputs": [],
   "source": [
    "# データの読み込み\n",
    "beer = pd.read_csv(\"5-1-1-beer.csv\")\n",
    "\n",
    "# モデルの推定\n",
    "lm_model = smf.ols(formula = \"beer ~ temperature\", \n",
    "                   data = beer).fit()"
   ]
  },
  {
   "cell_type": "markdown",
   "metadata": {},
   "source": [
    "説明変数が連続型のデータの場合は、群間変動や郡内変動といった用語はあまり使われない。\n",
    "\n",
    "ここでは、群間変動の自由度を<u>モデルの自由度</u>、群内変動の自由度を<u>残差の自由度</u>と呼ぶことにする。\n",
    "\n",
    "モデルの自由度は、推定されたパラメータの数から1を引いたもので、単回帰モデルの係数は切片と傾きの2つなのでモデルの自由度は1となる。\n",
    "\n",
    "残差の自由度は、サンプルサイズから推定されたパラメータ数を引いたもので、30-2=28となる。"
   ]
  },
  {
   "cell_type": "code",
   "execution_count": 21,
   "metadata": {
    "collapsed": true
   },
   "outputs": [],
   "source": [
    "df_lm_model = 1  # モデルの自由度\n",
    "df_lm_resid = 28 # 残差の自由度"
   ]
  },
  {
   "cell_type": "markdown",
   "metadata": {},
   "source": [
    "$F$比を計算する。"
   ]
  },
  {
   "cell_type": "code",
   "execution_count": 22,
   "metadata": {},
   "outputs": [
    {
     "data": {
      "text/plain": [
       "28.447"
      ]
     },
     "execution_count": 22,
     "metadata": {},
     "output_type": "execute_result"
    }
   ],
   "source": [
    "# 当てはめ値\n",
    "lm_effect = lm_model.fittedvalues\n",
    "# 残差\n",
    "lm_resid = lm_model.resid\n",
    "# 気温の持つ効果の大きさ\n",
    "mu = sp.mean(lm_effect)\n",
    "squares_lm_model = sp.sum((lm_effect - mu) ** 2)\n",
    "variance_lm_model = squares_lm_model / df_lm_model\n",
    "# 残差の大きさ\n",
    "squares_lm_resid = sp.sum((lm_resid) ** 2)\n",
    "variance_lm_resid = squares_lm_resid / df_lm_resid\n",
    "# F比\n",
    "f_value_lm = variance_lm_model / variance_lm_resid\n",
    "f_value_lm"
   ]
  },
  {
   "cell_type": "markdown",
   "metadata": {},
   "source": [
    "この$F$比を用いて$p$値を計算してもいいけど、桁落ちでほぼ0となる。"
   ]
  },
  {
   "cell_type": "code",
   "execution_count": 23,
   "metadata": {},
   "outputs": [
    {
     "data": {
      "text/plain": [
       "0.000"
      ]
     },
     "execution_count": 23,
     "metadata": {},
     "output_type": "execute_result"
    }
   ],
   "source": [
    "# 参考：p値(桁落ちで0になる)\n",
    "1 - sp.stats.f.cdf(\n",
    "    x=f_value_lm,dfn=df_lm_model,dfd=df_lm_resid)"
   ]
  },
  {
   "cell_type": "markdown",
   "metadata": {},
   "source": [
    "`sm.stats.anova_lm`関数で分散分析表を出力して、$F$比の計算結果が一致していることを確認。"
   ]
  },
  {
   "cell_type": "code",
   "execution_count": 24,
   "metadata": {},
   "outputs": [
    {
     "name": "stdout",
     "output_type": "stream",
     "text": [
      "                  sum_sq    df          F    PR(>F)\n",
      "temperature  1651.532489   1.0  28.446984  0.000011\n",
      "Residual     1625.582178  28.0        NaN       NaN\n"
     ]
    }
   ],
   "source": [
    "# 分散分析表\n",
    "print(sm.stats.anova_lm(lm_model, typ=2))"
   ]
  },
  {
   "cell_type": "markdown",
   "metadata": {},
   "source": [
    "この結果の一部は、モデルのsummaryにも出力されている。\n",
    "\n",
    "出力の最上段にあるF-statisticが$F$比を、Prob(F-statistic)が分散分析の$p$値を表している。\n",
    "\n",
    "\n",
    "なお、説明変数が1つだけの場合は、係数の$t$検定の結果と分散分析の結果は一致する。説明変数が増えると一致しない。"
   ]
  },
  {
   "cell_type": "code",
   "execution_count": 40,
   "metadata": {},
   "outputs": [
    {
     "data": {
      "text/html": [
       "<table class=\"simpletable\">\n",
       "<caption>OLS Regression Results</caption>\n",
       "<tr>\n",
       "  <th>Dep. Variable:</th>          <td>beer</td>       <th>  R-squared:         </th> <td>   0.504</td>\n",
       "</tr>\n",
       "<tr>\n",
       "  <th>Model:</th>                   <td>OLS</td>       <th>  Adj. R-squared:    </th> <td>   0.486</td>\n",
       "</tr>\n",
       "<tr>\n",
       "  <th>Method:</th>             <td>Least Squares</td>  <th>  F-statistic:       </th> <td>   28.45</td>\n",
       "</tr>\n",
       "<tr>\n",
       "  <th>Date:</th>             <td>Fri, 28 Dec 2018</td> <th>  Prob (F-statistic):</th> <td>1.11e-05</td>\n",
       "</tr>\n",
       "<tr>\n",
       "  <th>Time:</th>                 <td>16:54:42</td>     <th>  Log-Likelihood:    </th> <td> -102.45</td>\n",
       "</tr>\n",
       "<tr>\n",
       "  <th>No. Observations:</th>      <td>    30</td>      <th>  AIC:               </th> <td>   208.9</td>\n",
       "</tr>\n",
       "<tr>\n",
       "  <th>Df Residuals:</th>          <td>    28</td>      <th>  BIC:               </th> <td>   211.7</td>\n",
       "</tr>\n",
       "<tr>\n",
       "  <th>Df Model:</th>              <td>     1</td>      <th>                     </th>     <td> </td>   \n",
       "</tr>\n",
       "<tr>\n",
       "  <th>Covariance Type:</th>      <td>nonrobust</td>    <th>                     </th>     <td> </td>   \n",
       "</tr>\n",
       "</table>\n",
       "<table class=\"simpletable\">\n",
       "<tr>\n",
       "       <td></td>          <th>coef</th>     <th>std err</th>      <th>t</th>      <th>P>|t|</th>  <th>[0.025</th>    <th>0.975]</th>  \n",
       "</tr>\n",
       "<tr>\n",
       "  <th>Intercept</th>   <td>   34.6102</td> <td>    3.235</td> <td>   10.699</td> <td> 0.000</td> <td>   27.984</td> <td>   41.237</td>\n",
       "</tr>\n",
       "<tr>\n",
       "  <th>temperature</th> <td>    0.7654</td> <td>    0.144</td> <td>    5.334</td> <td> 0.000</td> <td>    0.471</td> <td>    1.059</td>\n",
       "</tr>\n",
       "</table>\n",
       "<table class=\"simpletable\">\n",
       "<tr>\n",
       "  <th>Omnibus:</th>       <td> 0.587</td> <th>  Durbin-Watson:     </th> <td>   1.960</td>\n",
       "</tr>\n",
       "<tr>\n",
       "  <th>Prob(Omnibus):</th> <td> 0.746</td> <th>  Jarque-Bera (JB):  </th> <td>   0.290</td>\n",
       "</tr>\n",
       "<tr>\n",
       "  <th>Skew:</th>          <td>-0.240</td> <th>  Prob(JB):          </th> <td>   0.865</td>\n",
       "</tr>\n",
       "<tr>\n",
       "  <th>Kurtosis:</th>      <td> 2.951</td> <th>  Cond. No.          </th> <td>    52.5</td>\n",
       "</tr>\n",
       "</table>"
      ],
      "text/plain": [
       "<class 'statsmodels.iolib.summary.Summary'>\n",
       "\"\"\"\n",
       "                            OLS Regression Results                            \n",
       "==============================================================================\n",
       "Dep. Variable:                   beer   R-squared:                       0.504\n",
       "Model:                            OLS   Adj. R-squared:                  0.486\n",
       "Method:                 Least Squares   F-statistic:                     28.45\n",
       "Date:                Fri, 28 Dec 2018   Prob (F-statistic):           1.11e-05\n",
       "Time:                        16:54:42   Log-Likelihood:                -102.45\n",
       "No. Observations:                  30   AIC:                             208.9\n",
       "Df Residuals:                      28   BIC:                             211.7\n",
       "Df Model:                           1                                         \n",
       "Covariance Type:            nonrobust                                         \n",
       "===============================================================================\n",
       "                  coef    std err          t      P>|t|      [0.025      0.975]\n",
       "-------------------------------------------------------------------------------\n",
       "Intercept      34.6102      3.235     10.699      0.000      27.984      41.237\n",
       "temperature     0.7654      0.144      5.334      0.000       0.471       1.059\n",
       "==============================================================================\n",
       "Omnibus:                        0.587   Durbin-Watson:                   1.960\n",
       "Prob(Omnibus):                  0.746   Jarque-Bera (JB):                0.290\n",
       "Skew:                          -0.240   Prob(JB):                        0.865\n",
       "Kurtosis:                       2.951   Cond. No.                         52.5\n",
       "==============================================================================\n",
       "\n",
       "Warnings:\n",
       "[1] Standard Errors assume that the covariance matrix of the errors is correctly specified.\n",
       "\"\"\""
      ]
     },
     "execution_count": 40,
     "metadata": {},
     "output_type": "execute_result"
    }
   ],
   "source": [
    "# モデルのsummary\n",
    "lm_model.summary()"
   ]
  },
  {
   "cell_type": "code",
   "execution_count": null,
   "metadata": {
    "collapsed": true
   },
   "outputs": [],
   "source": []
  }
 ],
 "metadata": {
  "kernelspec": {
   "display_name": "Python 3",
   "language": "python",
   "name": "python3"
  },
  "language_info": {
   "codemirror_mode": {
    "name": "ipython",
    "version": 3
   },
   "file_extension": ".py",
   "mimetype": "text/x-python",
   "name": "python",
   "nbconvert_exporter": "python",
   "pygments_lexer": "ipython3",
   "version": "3.6.1"
  }
 },
 "nbformat": 4,
 "nbformat_minor": 2
}
