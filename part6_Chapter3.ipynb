{
 "cells": [
  {
   "cell_type": "markdown",
   "metadata": {},
   "source": [
    "# 用語おさらい\n",
    "- 二値確率変数<br>2値の確率変数　表と裏　1か2\n",
    "\n",
    "- 成功確率　本書限定<br>2値の一方が得られる確率　範囲[0-1]\n",
    "\n",
    "- ベルヌーイ試行<br>2値のどちらかを発生させる試行　コイントス\n",
    "\n",
    "- ベルヌーイ分布<br>ベルヌーイ試行1回に付随する二値確率変数が従う確率分布\n",
    "\n",
    "- ###### 二項分布<br>成功確率p　N回の独立したベルヌーイ試行が行われたとき<br>成功した回数mが従う離散型の確率分布\n",
    "  - 期待値　Np　<font color=\"grey\">$E[X]=E[X_1]+E[X_2]\\cdots$</font>\n",
    "  - 分散　Np(1-p)<br><font color=\"grey\">$V[X]=V[X_1]+V[X_2]=nV[X_1]$</font><br><font color=\"grey\">$V[X_1]=E[(X_1-\\mu_{X_1})^2]=\\sum p_i(x_i-\\mu_x)^2$</font><br><font color=\"grey\">$\\sum p_i(x_i-\\mu_x)^2=p(1-p)^2+(1-p)p^2=p-2p^2+p3+p^2-p^3=p(1-p)$</font>\n",
    "  - <font color=\"red\">成功確率pを分析するためによく使われる</font>"
   ]
  },
  {
   "cell_type": "markdown",
   "metadata": {},
   "source": [
    "# 一般化線形モデルの構成要素のおさらい\n",
    "1. 母集団の従う確率分布\n",
    "\n",
    "1. 線形予測子<br>説明変数を線形の関係式で表現したもの<br>$\\beta_0 + \\beta_1\\times X$とか\n",
    "\n",
    "1. ###### リンク関数<br>目的変数と線形予測子の橋渡し\n",
    "  - 範囲[0-1]に直したり"
   ]
  },
  {
   "cell_type": "markdown",
   "metadata": {},
   "source": [
    "---\n",
    "---\n",
    "---"
   ]
  },
  {
   "cell_type": "markdown",
   "metadata": {},
   "source": [
    "# 第3章　ロジスティック回帰"
   ]
  },
  {
   "cell_type": "markdown",
   "metadata": {},
   "source": [
    "## ロジスティック回帰\n",
    "- 一般化線形モデルの一種<br>確率分布は<font color=\"red\">二項分布</font>に従う<br>リンク関数として<font color=\"red\">ロジット関数</font>を使う"
   ]
  },
  {
   "cell_type": "markdown",
   "metadata": {},
   "source": [
    "## 例題\n",
    "- 二項分布お得意の正解確率予測　テストの合否予測、しよう\n",
    "- 勉強時間を説明変数として<br>線形予測子は　$\\beta_1 + \\beta_2 \\times $勉強時間　と置いてみる"
   ]
  },
  {
   "cell_type": "markdown",
   "metadata": {},
   "source": [
    "## 二値判別問題の何が難しいか\n",
    "- 応答変数を合否の2値とした場合<br>合否$=\\beta_0 + \\beta_1 \\times $勉強時間　が関係式とすれば<br>左辺の2値と同値にしたいのに、右辺が<font color=\"red\">連続値だったり負になる可能性あり</font>\n",
    "\n",
    "- とりあえず応答変数を連続値である合格率に置き換える<br>問題　確率だから範囲[0-1]に収めないといけない<br>　　　負の値を取らせてはいけないし、1を超えてもいけない\n",
    " \n",
    "- ###### 解決策<br>リンク関数として<font color=\"red\">ロジット関数を適用</font>することで線形予測子を橋渡しする\n",
    "- ###### 本質<br>ロジスティック関数によって両辺を範囲[0-1]に強制的に正規化した際<br>左辺の形が変わらないようにするため<br>左辺にだけロジスティック関数の逆関数であるロジット関数を適用する"
   ]
  },
  {
   "cell_type": "markdown",
   "metadata": {},
   "source": [
    "## ロジスティック関数\n",
    "- $\\displaystyle g(y)=\\frac{1}{1+exp(-y)}$\n",
    "- ロジット関数と逆関数の関係<br>機械学習の世界ではsigmoid関数とも呼ばれている\n",
    "- 分母が1以下にならない　yが小さい時、分母は大きくなる\n",
    "- $y\\rightarrow\\infty$　なら　$g(y)\\rightarrow1$<br>$y\\rightarrow-\\infty$　なら　$g(y)\\rightarrow0$<br>範囲 [0-1]"
   ]
  },
  {
   "cell_type": "markdown",
   "metadata": {},
   "source": [
    "## ロジット関数\n",
    "- $\\displaystyle f(x)=\\log(\\frac{x}{1-x})$<br>　　 $=\\log(x)-log(1-x)$\n",
    "- ロジスティック関数と逆関数の関係\n",
    "- $x\\rightarrow1$　なら　$f(x)\\rightarrow \\infty$<br>$x\\rightarrow0$　なら　$f(x)\\rightarrow -\\infty$"
   ]
  },
  {
   "cell_type": "markdown",
   "metadata": {},
   "source": [
    "---"
   ]
  },
  {
   "cell_type": "markdown",
   "metadata": {},
   "source": [
    "## ロジスティック回帰の構造\n",
    "- 応答変数のみに、リンク関数であるロジット関数を適用する<br>成功確率(合格確率) p<br>$\\displaystyle \\log(\\frac{p}{1-p})=\\beta_0+\\beta_1\\times$勉強時間\n",
    "- 上記の両辺にロジスティック関数を適用<br>$\\displaystyle p=\\frac{1}{1+exp[-(\\beta_0+\\beta_1\\times勉強時間)]}$\n",
    "- 勉強時間が5時間の生徒10人と判明した場合<br>合格者人数M　成功確率が上記式、試行回数10の二項分布に従うと想定される<br>合格者人数：$\\displaystyle M\\sim Bin(m|10,\\frac{1}{1+exp[-(\\beta_0+\\beta_1\\times5)]})$\n",
    "- $Bin(m|N,p)=_NC_m\\cdot p^m \\cdot (1-p)^{N-m}$"
   ]
  },
  {
   "cell_type": "markdown",
   "metadata": {},
   "source": [
    "## ロジスティック回帰の尤度関数\n",
    "- 係数$\\beta_0$,$\\beta_1$の推定に移る\n",
    "- 尤度関数は教科書に譲る"
   ]
  },
  {
   "cell_type": "markdown",
   "metadata": {},
   "source": [
    "---\n",
    "---\n",
    "---"
   ]
  },
  {
   "cell_type": "markdown",
   "metadata": {},
   "source": [
    "## 分析の準備"
   ]
  },
  {
   "cell_type": "code",
   "execution_count": 30,
   "metadata": {},
   "outputs": [],
   "source": [
    "import numpy as np\n",
    "import pandas as pd\n",
    "import scipy as sp\n",
    "from scipy import stats\n",
    "# graph\n",
    "from matplotlib import pyplot as plt\n",
    "import seaborn as sns\n",
    "sns.set()\n",
    "# lib\n",
    "import statsmodels.formula.api as smf\n",
    "import statsmodels.api as sm\n",
    "#\n",
    "% precision 3\n",
    "#\n",
    "%matplotlib inline"
   ]
  },
  {
   "cell_type": "markdown",
   "metadata": {},
   "source": [
    "## データの読み込みと図示"
   ]
  },
  {
   "cell_type": "code",
   "execution_count": 31,
   "metadata": {
    "scrolled": true
   },
   "outputs": [
    {
     "name": "stdout",
     "output_type": "stream",
     "text": [
      "    hours  result\n",
      "0       0       0\n",
      "1       0       0\n",
      "2       0       0\n",
      "3       0       0\n",
      "4       0       0\n",
      "5       0       0\n",
      "6       0       0\n",
      "7       0       0\n",
      "8       0       0\n",
      "9       0       0\n",
      "10      1       0\n",
      "11      1       0\n",
      "12      1       0\n",
      "13      1       0\n",
      "14      1       0\n",
      "15      1       0\n",
      "16      1       0\n",
      "17      1       0\n",
      "18      1       0\n",
      "19      1       0\n",
      "20      2       0\n",
      "21      2       1\n",
      "22      2       0\n",
      "23      2       0\n",
      "24      2       0\n",
      "25      2       0\n",
      "26      2       0\n",
      "27      2       0\n",
      "28      2       0\n",
      "29      2       0\n",
      "..    ...     ...\n",
      "70      7       0\n",
      "71      7       1\n",
      "72      7       1\n",
      "73      7       1\n",
      "74      7       1\n",
      "75      7       1\n",
      "76      7       0\n",
      "77      7       1\n",
      "78      7       1\n",
      "79      7       1\n",
      "80      8       1\n",
      "81      8       1\n",
      "82      8       1\n",
      "83      8       1\n",
      "84      8       1\n",
      "85      8       1\n",
      "86      8       1\n",
      "87      8       0\n",
      "88      8       1\n",
      "89      8       1\n",
      "90      9       1\n",
      "91      9       1\n",
      "92      9       1\n",
      "93      9       1\n",
      "94      9       1\n",
      "95      9       1\n",
      "96      9       1\n",
      "97      9       1\n",
      "98      9       1\n",
      "99      9       1\n",
      "\n",
      "[100 rows x 2 columns]\n"
     ]
    }
   ],
   "source": [
    "test_result = pd.read_csv(\"6-3-1-logistic-regression.csv\")\n",
    "print(test_result)"
   ]
  },
  {
   "cell_type": "markdown",
   "metadata": {},
   "source": [
    "グラフを見ると、勉強時間と合格率が比例しているっぽい"
   ]
  },
  {
   "cell_type": "code",
   "execution_count": 32,
   "metadata": {
    "scrolled": true
   },
   "outputs": [
    {
     "data": {
      "text/plain": [
       "<matplotlib.axes._subplots.AxesSubplot at 0x113a166a0>"
      ]
     },
     "execution_count": 32,
     "metadata": {},
     "output_type": "execute_result"
    },
    {
     "data": {
      "image/png": "[encoded data removed]",
      "text/plain": [
       "<Figure size 432x288 with 1 Axes>"
      ]
     },
     "metadata": {},
     "output_type": "display_data"
    }
   ],
   "source": [
    "sns.barplot(x=\"hours\", y=\"result\",\n",
    "           data=test_result, palette='gray_r')"
   ]
  },
  {
   "cell_type": "markdown",
   "metadata": {},
   "source": [
    "勉強時間ごとの合格率を計算\n",
    "- 1時間以下　全員不合格\n",
    "- 9時間以上　全員合格"
   ]
  },
  {
   "cell_type": "code",
   "execution_count": 33,
   "metadata": {
    "scrolled": true
   },
   "outputs": [
    {
     "name": "stdout",
     "output_type": "stream",
     "text": [
      "       result\n",
      "hours        \n",
      "0         0.0\n",
      "1         0.0\n",
      "2         0.1\n",
      "3         0.1\n",
      "4         0.4\n",
      "5         0.4\n",
      "6         0.9\n",
      "7         0.8\n",
      "8         0.9\n",
      "9         1.0\n"
     ]
    }
   ],
   "source": [
    "print(test_result.groupby(\"hours\").mean())"
   ]
  },
  {
   "cell_type": "markdown",
   "metadata": {},
   "source": [
    "## ロジスティック回帰　実装"
   ]
  },
  {
   "cell_type": "code",
   "execution_count": 34,
   "metadata": {},
   "outputs": [],
   "source": [
    "mod_glm = smf.glm(formula = \"result ~ hours\",\n",
    "                 data = test_result,\n",
    "                 family=sm.families.Binomial()).fit()"
   ]
  },
  {
   "cell_type": "markdown",
   "metadata": {},
   "source": [
    "- 一般化線形モデル推定にはsmf.glm関数　ロジスティック回帰に限らず\n",
    "- 引数の説明<br>formula　応答変数と説明変数<br>data　対象となるデータ<br>family　確率分布\n",
    "- リンク関数を指定していないが、二項分布を指定した場合は自動でロジットになる<br>"
   ]
  },
  {
   "cell_type": "markdown",
   "metadata": {},
   "source": [
    "## ロジスティック回帰の結果の出力　実装"
   ]
  },
  {
   "cell_type": "markdown",
   "metadata": {},
   "source": [
    "- IRLS　反復重み付き最小二乗法　計算の繰り返し数がNo.Iterations\n",
    "- DevianceとPearson chi2　モデルの当てはまり度　次章で詳しく\n",
    "- 検定は正規モデルの解釈とほぼ一緒　t検定の代わりにWald検定"
   ]
  },
  {
   "cell_type": "code",
   "execution_count": 35,
   "metadata": {},
   "outputs": [
    {
     "data": {
      "text/html": [
       "<table class=\"simpletable\">\n",
       "<caption>Generalized Linear Model Regression Results</caption>\n",
       "<tr>\n",
       "  <th>Dep. Variable:</th>       <td>result</td>      <th>  No. Observations:  </th>  <td>   100</td>  \n",
       "</tr>\n",
       "<tr>\n",
       "  <th>Model:</th>                 <td>GLM</td>       <th>  Df Residuals:      </th>  <td>    98</td>  \n",
       "</tr>\n",
       "<tr>\n",
       "  <th>Model Family:</th>       <td>Binomial</td>     <th>  Df Model:          </th>  <td>     1</td>  \n",
       "</tr>\n",
       "<tr>\n",
       "  <th>Link Function:</th>        <td>logit</td>      <th>  Scale:             </th> <td>  1.0000</td> \n",
       "</tr>\n",
       "<tr>\n",
       "  <th>Method:</th>               <td>IRLS</td>       <th>  Log-Likelihood:    </th> <td> -34.014</td> \n",
       "</tr>\n",
       "<tr>\n",
       "  <th>Date:</th>           <td>Mon, 14 Jan 2019</td> <th>  Deviance:          </th> <td>  68.028</td> \n",
       "</tr>\n",
       "<tr>\n",
       "  <th>Time:</th>               <td>19:35:40</td>     <th>  Pearson chi2:      </th>  <td>  84.9</td>  \n",
       "</tr>\n",
       "<tr>\n",
       "  <th>No. Iterations:</th>         <td>6</td>        <th>  Covariance Type:   </th> <td>nonrobust</td>\n",
       "</tr>\n",
       "</table>\n",
       "<table class=\"simpletable\">\n",
       "<tr>\n",
       "      <td></td>         <th>coef</th>     <th>std err</th>      <th>z</th>      <th>P>|z|</th>  <th>[0.025</th>    <th>0.975]</th>  \n",
       "</tr>\n",
       "<tr>\n",
       "  <th>Intercept</th> <td>   -4.5587</td> <td>    0.901</td> <td>   -5.061</td> <td> 0.000</td> <td>   -6.324</td> <td>   -2.793</td>\n",
       "</tr>\n",
       "<tr>\n",
       "  <th>hours</th>     <td>    0.9289</td> <td>    0.174</td> <td>    5.345</td> <td> 0.000</td> <td>    0.588</td> <td>    1.270</td>\n",
       "</tr>\n",
       "</table>"
      ],
      "text/plain": [
       "<class 'statsmodels.iolib.summary.Summary'>\n",
       "\"\"\"\n",
       "                 Generalized Linear Model Regression Results                  \n",
       "==============================================================================\n",
       "Dep. Variable:                 result   No. Observations:                  100\n",
       "Model:                            GLM   Df Residuals:                       98\n",
       "Model Family:                Binomial   Df Model:                            1\n",
       "Link Function:                  logit   Scale:                          1.0000\n",
       "Method:                          IRLS   Log-Likelihood:                -34.014\n",
       "Date:                Mon, 14 Jan 2019   Deviance:                       68.028\n",
       "Time:                        19:35:40   Pearson chi2:                     84.9\n",
       "No. Iterations:                     6   Covariance Type:             nonrobust\n",
       "==============================================================================\n",
       "                 coef    std err          z      P>|z|      [0.025      0.975]\n",
       "------------------------------------------------------------------------------\n",
       "Intercept     -4.5587      0.901     -5.061      0.000      -6.324      -2.793\n",
       "hours          0.9289      0.174      5.345      0.000       0.588       1.270\n",
       "==============================================================================\n",
       "\"\"\""
      ]
     },
     "execution_count": 35,
     "metadata": {},
     "output_type": "execute_result"
    }
   ],
   "source": [
    "mod_glm.summary()"
   ]
  },
  {
   "cell_type": "markdown",
   "metadata": {},
   "source": [
    "## モデル選択　実装"
   ]
  },
  {
   "cell_type": "markdown",
   "metadata": {},
   "source": [
    "- AICでNullモデルとどちらがいいか比較"
   ]
  },
  {
   "cell_type": "code",
   "execution_count": 36,
   "metadata": {},
   "outputs": [],
   "source": [
    "mod_glm_null = smf.glm(formula = \"result ~ 1\",\n",
    "                       data = test_result,\n",
    "                       family=sm.families.Binomial()).fit()"
   ]
  },
  {
   "cell_type": "markdown",
   "metadata": {},
   "source": [
    "- 勉強時間を説明変数に用いた方が良かった\n",
    "- 勉強時間の係数が正　勉強時間と合格率は単純比例しそう"
   ]
  },
  {
   "cell_type": "code",
   "execution_count": 37,
   "metadata": {},
   "outputs": [
    {
     "name": "stdout",
     "output_type": "stream",
     "text": [
      "Nullモデル\t： 139.989\n",
      "変数入りモデル\t： 72.028\n"
     ]
    }
   ],
   "source": [
    "print(\"Nullモデル\\t：\", mod_glm_null.aic.round(3))\n",
    "print(\"変数入りモデル\\t：\", mod_glm.aic.round(3))"
   ]
  },
  {
   "cell_type": "markdown",
   "metadata": {},
   "source": [
    "## ロジスティック回帰曲線の図示　実装"
   ]
  },
  {
   "cell_type": "markdown",
   "metadata": {},
   "source": [
    "- ロジスティック回帰で求められた理論上の合格率を図示\n",
    "- seabornのlmplot関数　引数logistic = True"
   ]
  },
  {
   "cell_type": "markdown",
   "metadata": {},
   "source": [
    "- x_jitter　散布図のデータ点を少し上下にばらつかせる指定<br>合否データは2値なのでデータが重ならないように指定した"
   ]
  },
  {
   "cell_type": "code",
   "execution_count": 38,
   "metadata": {
    "slideshow": {
     "slide_type": "slide"
    }
   },
   "outputs": [
    {
     "data": {
      "text/plain": [
       "<seaborn.axisgrid.FacetGrid at 0x113c0fc88>"
      ]
     },
     "execution_count": 38,
     "metadata": {},
     "output_type": "execute_result"
    },
    {
     "data": {
      "image/png": "[encoded data removed]",
      "text/plain": [
       "<Figure size 360x360 with 1 Axes>"
      ]
     },
     "metadata": {},
     "output_type": "display_data"
    }
   ],
   "source": [
    "sns.lmplot(x=\"hours\", y=\"result\",\n",
    "          data=test_result,\n",
    "          logistic=True,\n",
    "          scatter_kws={\"color\": \"black\"},\n",
    "          line_kws={\"color\": \"black\"},\n",
    "          x_jitter=0.1, y_jitter=0.02)"
   ]
  },
  {
   "cell_type": "markdown",
   "metadata": {},
   "source": [
    "## 成功確率の予測　実装"
   ]
  },
  {
   "cell_type": "markdown",
   "metadata": {},
   "source": [
    "- 無勉では1%\n",
    "- 9時間以上で98%\n",
    "- 仮に合否の2値で予測したいなら四捨五入したりね"
   ]
  },
  {
   "cell_type": "code",
   "execution_count": 39,
   "metadata": {
    "scrolled": false
   },
   "outputs": [
    {
     "data": {
      "text/plain": [
       "0    0.010367\n",
       "1    0.025836\n",
       "2    0.062920\n",
       "3    0.145291\n",
       "4    0.300876\n",
       "5    0.521427\n",
       "6    0.733929\n",
       "7    0.874741\n",
       "8    0.946467\n",
       "9    0.978147\n",
       "dtype: float64"
      ]
     },
     "execution_count": 39,
     "metadata": {},
     "output_type": "execute_result"
    }
   ],
   "source": [
    "# 0~9まで1ずつ増える等差数列\n",
    "exp_val = pd.DataFrame({\n",
    "    \"hours\": np.arange(0, 10, 1)\n",
    "})\n",
    "# 成功確率の予測値\n",
    "pred = mod_glm.predict(exp_val)\n",
    "pred"
   ]
  },
  {
   "cell_type": "markdown",
   "metadata": {},
   "source": [
    "---\n",
    "---\n",
    "---"
   ]
  },
  {
   "cell_type": "markdown",
   "metadata": {},
   "source": [
    "## オッズ\n",
    "- 失敗するよりも何倍成功しやすいか<br>オッズ$=\\frac{p}{1-p}$\n",
    "\n",
    "## オッズ比\n",
    "- 異なるオッズ同士の比<br>$\\displaystyle \\frac{\\frac{p_1}{1-p_1}}{\\frac{p_2}{1-p_2}}$\n",
    "- 対数オッズ比もある"
   ]
  },
  {
   "cell_type": "markdown",
   "metadata": {},
   "source": [
    "## ロジスティック回帰の係数とオッズ比の関係\n",
    "- ロジット関数　成功確率をオッズに変関する関数\n",
    "- リンク関数=ロジット関数　ということは……<br>ロジスティック回帰の係数とオッズには密接な関係性\n",
    "- $\\displaystyle \\log(\\frac{p}{1-p})=\\beta_0+\\beta_1\\times X$\n",
    "- 回帰係数=説明変数を1単位変化させた時の対数オッズ比"
   ]
  },
  {
   "cell_type": "code",
   "execution_count": 57,
   "metadata": {},
   "outputs": [
    {
     "name": "stdout",
     "output_type": "stream",
     "text": [
      "0    0.025836\n",
      "dtype: float64\n",
      "0    0.06292\n",
      "dtype: float64\n"
     ]
    }
   ],
   "source": [
    "exp_val_1 = pd.DataFrame({\"hours\": [1]})\n",
    "pred_1 = mod_glm.predict(exp_val_1)\n",
    "print(pred_1)\n",
    "\n",
    "exp_val_2 = pd.DataFrame({\"hours\": [2]})\n",
    "pred_2 = mod_glm.predict(exp_val_2)\n",
    "print(pred_2)"
   ]
  },
  {
   "cell_type": "code",
   "execution_count": 55,
   "metadata": {},
   "outputs": [
    {
     "name": "stdout",
     "output_type": "stream",
     "text": [
      "0    0.026521\n",
      "dtype: float64\n",
      "### odds_10    0.026521\n",
      "dtype: float64\n",
      "### odds_20    0.067144\n",
      "dtype: float64\n"
     ]
    },
    {
     "data": {
      "text/plain": [
       "array([0.929])"
      ]
     },
     "execution_count": 55,
     "metadata": {},
     "output_type": "execute_result"
    }
   ],
   "source": [
    "odds_1 = pred_1 / (1-pred_1)\n",
    "odds_2 = pred_2 / (1-pred_2)\n",
    "print(odds_1)\n",
    "print(\"### odds_1{}\".format(odds_1))\n",
    "print(\"### odds_2{}\".format(odds_2))\n",
    "#\n",
    "sp.log(odds_2 / odds_1)"
   ]
  },
  {
   "cell_type": "markdown",
   "metadata": {},
   "source": []
  },
  {
   "cell_type": "code",
   "execution_count": 49,
   "metadata": {},
   "outputs": [
    {
     "data": {
      "text/plain": [
       "0.9288901756284946"
      ]
     },
     "execution_count": 49,
     "metadata": {},
     "output_type": "execute_result"
    }
   ],
   "source": [
    "mod_glm.params[\"hours\"]"
   ]
  },
  {
   "cell_type": "markdown",
   "metadata": {},
   "source": [
    "- 一致<br>変数を1単位動かした時のオッズ比<br>回帰係数"
   ]
  },
  {
   "cell_type": "code",
   "execution_count": 45,
   "metadata": {},
   "outputs": [
    {
     "data": {
      "text/plain": [
       "2.5316978778757737"
      ]
     },
     "execution_count": 45,
     "metadata": {},
     "output_type": "execute_result"
    }
   ],
   "source": [
    "sp.exp(mod_glm.params[\"hours\"])"
   ]
  },
  {
   "cell_type": "markdown",
   "metadata": {},
   "source": [
    "- 結論<br>説明変数が1単位増えたとき、対数オッズが何倍になるかが係数でわかる"
   ]
  }
 ],
 "metadata": {
  "kernelspec": {
   "display_name": "Python 3",
   "language": "python",
   "name": "python3"
  },
  "language_info": {
   "codemirror_mode": {
    "name": "ipython",
    "version": 3
   },
   "file_extension": ".py",
   "mimetype": "text/x-python",
   "name": "python",
   "nbconvert_exporter": "python",
   "pygments_lexer": "ipython3",
   "version": "3.6.2"
  }
 },
 "nbformat": 4,
 "nbformat_minor": 2
}
