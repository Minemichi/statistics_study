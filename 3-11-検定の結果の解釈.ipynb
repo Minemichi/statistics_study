{
 "cells": [
  {
   "cell_type": "markdown",
   "metadata": {},
   "source": [
    "# 第3部　Pythonによるデータ分析｜Pythonで学ぶ統計学入門\n",
    "\n",
    "## 11章　検定の結果の解釈\n",
    "---"
   ]
  },
  {
   "cell_type": "markdown",
   "metadata": {},
   "source": [
    "## [11-1] p値が0.05以下だった時の結果の書き方\n",
    "\n",
    "### 「〇〇は××と有意に異なっていた」\n",
    "\n",
    "---"
   ]
  },
  {
   "cell_type": "markdown",
   "metadata": {},
   "source": [
    "## [11-2] p値が0.05よりも大きかった時の結果の書き方\n",
    "\n",
    "### 「〇〇は××と \"有意に異なっているとはいえない \"」\n",
    "---"
   ]
  },
  {
   "cell_type": "markdown",
   "metadata": {},
   "source": [
    "## [11-3] 仮説検定における，よくある間違い\n",
    "\n",
    "### ① p値が小さい方が，差が大きいと言える\n",
    "### 　　　➡︎ p値が小さくても，差が大きいとは限らない\n",
    "### ② p値が0.05より大きいので「差がない」と言える\n",
    "### 　　　➡︎ p値が0.05より大くても差がないとは言えない\n",
    "### ③ 「1-p値」は「対立仮説が正しい確率」である\n",
    "---"
   ]
  },
  {
   "cell_type": "markdown",
   "metadata": {},
   "source": [
    "## [11-6] 第一種の過誤・第二種の過誤\n",
    "### 第一種の過誤\n",
    "#### 帰無仮説が正しいのに，誤って帰無仮説を棄却してしまうこと。\n",
    "### 第二種の過誤\n",
    "#### 逆に，帰無仮説が間違っているのに，誤って帰無仮説を採択してしまうこと。\n",
    "---"
   ]
  },
  {
   "cell_type": "markdown",
   "metadata": {},
   "source": [
    "## [11-7] 検定の非対称性\n",
    "### 検定の非対称性\n",
    "#### 第一種の過誤についてはその確率をコントロールしているにも関わらず，第二種のカゴについてはコントロールできていないことが原因で発生する。\n",
    "---"
   ]
  },
  {
   "cell_type": "markdown",
   "metadata": {},
   "source": [
    "## [11-10] 統計的仮説検定は必要か\n",
    "### 1. 著者の答え「いつかは不要になるかもしれない。けれども，それは今日ではないです。」\n",
    "### 2. データ分析という業務において，統計的仮説検定を理解していない状況は大きな問題がある。\n",
    "### 3. 積極的に用いるかどうかは別として，少なくとも理論を知っておくことは有益。\n",
    "---\n"
   ]
  }
 ],
 "metadata": {
  "kernelspec": {
   "display_name": "Python 3",
   "language": "python",
   "name": "python3"
  },
  "language_info": {
   "codemirror_mode": {
    "name": "ipython",
    "version": 3
   },
   "file_extension": ".py",
   "mimetype": "text/x-python",
   "name": "python",
   "nbconvert_exporter": "python",
   "pygments_lexer": "ipython3",
   "version": "3.7.0"
  }
 },
 "nbformat": 4,
 "nbformat_minor": 2
}
