{
 "cells": [
  {
   "cell_type": "markdown",
   "metadata": {},
   "source": [
    "# 第7部　統計学と機械学習\n",
    "\n",
    "## 第一章　機械学習の基本\n",
    "\n",
    "第一章では、機械学習の導入をした上で、統計学と機械学習の関係について説明します。  \n",
    "両者の関係例に関して、完全に合意のとれた分類があるわけではありませんが、ここでは用語の説明を混ぜながら、おおよその目安となりうる類似点・相違点を紹介します。\n",
    "\n",
    "### 用語説明\n",
    "\n",
    "#### **機械学習**\n",
    "機械学習は、コンピュータに学習能力を与えることを目的とした研究分野のことです。  \n",
    "学習はデータに基づき行われ、データの持つ規則性を明らかにし、未知のデータの予測などに活用されます。  \n",
    "機械学習は大きく**教師あり学習**と**教師なし学習**に分かれます。\n",
    "\n",
    "##### **教師あり学習**\n",
    "教師あり学習は、正解データが得られる問題に取り組む学習です。  \n",
    "例えば売上を予測する場合、売上データが手に入ると「予測結果があっているか間違っているか」を評価することができ、正規線形モデルや一般化線形モデルで扱った問題が教師あり学習だとみなすことができます。\n",
    "\n",
    "##### **教師なし学習**\n",
    "教師なし学習は、正解データが得られない問題に取り組む学習です。  \n",
    "例えば、いろいろな魚のDNAを使って、近縁種とそうでない種に分類する場合などがあります。  \n",
    "正解が得られない中で、最もよいだろうと思われる分類を提案します。\n",
    "\n",
    "#### **強化学習**\n",
    "ある与えられた状況において、何らかの報酬を最大にするような行動を見つけるという問題を解くものを強化学習と呼びます。  \n",
    "教師あり学習と異なり、正解データは与えられません。\n",
    "\n",
    "#### **ルールベース機械学習**\n",
    "あらかじめ人間がルールを指定した上でそのルールに沿って予測結果を出力する手法をルールベース機械学習と呼び、先述の機械学習とは別のものとして取り扱います。  \n",
    "複雑な現象に対して人間が逐一ルールを指定するというやり方では、データに合わせた柔軟な予測が出しにくい、効率が悪いということがあります。\n",
    "\n",
    "### 統計学は過程、機械学習は結果に注目する\n",
    "\n",
    "ロジスティック回帰などの特定の手法に対して、これが統計学の範疇に入るものか機械学習の範疇に入るものかを明確に分けるのが難しいことがあります。  \n",
    "統計学の入門書にも機械学習の入門書のどちらにも重回帰分析やロジスティック回帰という単語が目次に載っていることがしばしばあります。\n",
    "\n",
    "統計学と機械学習は、やっていることは似ているのですが、データを分析する目的が少し異なります。\n",
    "\n",
    "#### 統計モデルの目的は「データが手に入るプロセスを理解すること」\n",
    "\n",
    "統計学はデータを得られるプロセス（過程）に注目します。過程が分かったら、次にどんなデータがやってくるのか予測もできるだろう、と考えます。  \n",
    "統計モデルを用いることで予測を行うことも可能となりますが、あくまでも過程の理解が第一で、予測はその次となります。\n",
    "\n",
    "#### 機械学習の目的は「未知のデータを計算によって手に入れること」\n",
    "\n",
    "機械学習は、次にどのような結果が得られるかに注目します。そのため、中身がブラックボックスとなるようなモデルもしばしば使用されます。\n",
    "\n",
    "ただし、明確にこの分類で分けられるわけではありません。機械学習法でも、現象の理解ができるように工夫することもあります。あくまでも分類の目安です。\n"
   ]
  },
  {
   "cell_type": "markdown",
   "metadata": {},
   "source": [
    "## 第2章　正則化とRidge回帰・Lasso回帰\n",
    "\n",
    "この章では、統計学と機械学習をつなぐモデルとして、Ridge回帰とLasso回帰を導入します。  \n",
    "これらのモデルは単純に予測モデルとして優秀であるだけでなく、さまざまな機械学習法で用いられる正則化という理論を理解するための教材としても優れています。\n",
    "\n",
    "### 用語説明\n",
    "\n",
    "#### **正則化**\n",
    "パラメータを推定する際に、損失関数に罰則項を導入することで、係数が大きくなる値となることを防ぐ技法を正則化と呼びます。  \n",
    "罰則項は**正則化項**とも呼ばれます。統計学においてはパラメータの**縮小推定**と呼ばれることもあります。\n",
    "\n",
    "#### **Ridge回帰**\n",
    "正則化項として係数の2乗和を用いた回帰モデルをRidge回帰と呼びます。  このタイプの正則化を**$L_2$正則化**とも呼びます。  \n",
    "この章では回帰モデルとして正規線形モデルを対象としますが、ロジスティック回帰などでもほぼ同様の拡張が可能です。\n",
    "\n",
    "数式を使ってRidge回帰を導入します。\n",
    "サンプルサイズが$I$のデータがあったとします。$i$番目の応答変数を$y_i$とします。  \n",
    "説明変数は合計で$J$種類あります。$j$種類目の説明変数が、各々$I$個あるわけです。  \n",
    "そのため、$i$番目のデータの$j$種類目の説明変数は$x_{ij}$と表記されます。$j$種類目の説明変数に対応する回帰係数を$\\beta_j$とします。\n",
    "\n",
    "通常の最小二乗法は以下の残差平方和を最小とする係数を推定します。\n",
    "\n",
    "$$\\sum_{i=1}^I \\biggl( y_i - \\sum_{j=1}^J \\beta_j x_{ij} \\biggr)^2$$\n",
    "\n",
    "Ridge回帰は以下の罰則付きの残差平方和を最小とする係数を推定します。\n",
    "\n",
    "$$\\sum_{i=1}^I \\biggl[ \\biggl( y_i - \\sum_{j=1}^J \\beta_j x_{ij} \\biggr)^2 + \\alpha \\sum_{j=1}^J \\beta_j^2 \\biggr]$$\n",
    "\n",
    "この式では切片が含まれていないように見えます。しかし、常に値が1である説明変数を用いると、それに対応する係数は切片とみなすことができます。  \n",
    "このため、上記の数式でも切片のあるモデルを表現できます。\n",
    "\n",
    "残差平方和を小さくしたいが、罰則はあまり請けたくない。そのため、絶対値の小さな係数が推定される。これが縮小推定と呼ばれる所以です。  \n",
    "この式における$\\alpha$が正則化の強さを指定するパラメータで、$\\alpha$が大きければ、罰則の影響が強くなるので係数の絶対値は小さくなります。\n",
    "\n",
    "#### **Lasso回帰**\n",
    "\n",
    "正則化項として係数の絶対値の和を用いた回帰モデルをLasso回帰と呼びます。このタイプの正則化を**$L_1$正則化**とも呼びます。\n",
    "\n",
    "Lasso回帰は以下の罰則付きの残差平方和を最小とする係数を推定します。罰則項が絶対値の和になった点を除けばRidge回帰と同じです。\n",
    "\n",
    "$$\\sum_{i=1}^I \\biggl[ \\biggl( y_i - \\sum_{j=1}^J \\beta_j x_{ij} \\biggr)^2 + \\alpha \\sum_{j=1}^J | \\beta_j | \\biggr]$$\n",
    "\n",
    "\n",
    "### 正則化の強度を指定するパラメータの決定方法\n",
    "\n",
    "正則化項に現れる$\\alpha$を決定する方法を説明します。  \n",
    "まずは、$\\alpha$をさまざまに変化させた上で、クロスバリデーションを用いてテストデータへの予測精度を評価します。  \n",
    "そして、テストデータへの予測精度が最も高くなる$\\alpha$を採用します。\n",
    "\n",
    "正則化項に現れる$\\alpha$を決定するのは一筋縄ではいきません。  \n",
    "$\\alpha$を含めて最適化の対象にすると、必ず$\\alpha=0$となった上で、残差平方和を最小にするように動いてしまうからです。これでは普通の最小二乗法と代わりありません。  \n",
    "このため、少し手間がかかりますが、クロスバリデーションを援用します。\n",
    "\n",
    "\n",
    "### 説明変数の標準化の必要性\n",
    "\n",
    "Ridge回帰やLasso回帰を実行する前に、あらかじめ説明変数を平均0、標準偏差1に標準化する必要があります。\n",
    "\n",
    "たとえば、説明変数としてkg単位のデータを用いたときとg単位のデータを用いた時では、回帰係数をの絶対値の大きさが変わります。  \n",
    "回帰係数の絶対値が大きくなると、罰則の影響も大きくなります。  \n",
    "説明変数の単位がパラメータ推定時に影響を与えるのを防ぐために、あらかじめ説明変数を標準化します。\n",
    "\n",
    "### Ridge回帰とLasso回帰のパラメータの推定結果の差\n",
    "\n",
    "Ridge回帰は全体的に絶対値の小さな回帰係数が得られやすく、一方のLasso回帰はほとんどのパラメータが0となり、一部のパラメータだけが0と異なる値になりやすいです。  \n",
    "これは次の第3章での計算例をみると、より明確になるでしょう。  \n",
    "Lasso回帰は疎（スパース）な解が得られるためスパースモデリングという名前で紹介されることもあります。\n",
    "\n",
    "Ridge回帰とLasso回帰がなぜ上記のような特徴を持つのか、その理由を以下の条件のもと簡単に説明します。\n",
    "\n",
    "条件①：説明変数が$\\beta_1$と$\\beta_2$の2つだけ  \n",
    "条件②：正則化項において$\\alpha = 1$  \n",
    "条件③：Ridge回帰とLasso回帰のそれぞれで、罰則項の大きさが1  \n",
    "\n",
    "まず「$\\beta_1=1$、$\\beta_2=0$」という状況を考えます。  \n",
    "Ridge回帰でもLasso回帰でも、ともに罰則の大きさは1となります。\n",
    "\n",
    "次に、「$\\beta_1=0.5$、$\\beta_2=0.5$」という状況を考えます。  \n",
    "この時のLasso回帰の罰則の大きさは1となりますが、Ridge回帰の罰則のの大きさは「$0.5^2+0.5^2=0.5$」となります。  \n",
    "Ridge回帰の罰則の大きさのほうが小さくなります。  \n",
    "「$0.7^2+0.7^2$」がおおよそ1となるので、Lasso回帰と同じ罰則の大きさになるまで、少し大きな係数になる余裕があることになります。\n",
    "\n",
    "このため、Ridge回帰は「全体的に絶対値が小さい係数」が推定される傾向があり、Lasso回帰は「一部の係数だけが0とは異なる値をとり、それ以外の係数はすべて0」という結果になりやすくなります。\n",
    "\n",
    "<img src=\"regression.png\", width=320, height=240>\n",
    "\n",
    "### 変数選択と正則化の比較\n",
    "\n",
    "変数選択では、AICなどに基づき、不要な説明変数をモデルから除外します。  \n",
    "こうすることにより、推定すべき未知のパラメータの数を減らし、モデルの単純化および過学習の抑制につながります。  \n",
    "\n",
    "過学習を防ぐもうひとつの方針が、今回のテーマである正則化です。  \n",
    "正則化項をいれることで絶対値の大きな係数を推定することを避け、結果的に説明変数が応答変数に与える影響を減らすことができます。  \n",
    "特に<u>Lasso回帰は得られる係数のほとんどが0になるため、変数選択をしているのと似た結果を示します</u>。\n",
    "\n",
    "### 正則化の意義\n",
    "\n",
    "統計モデルの立場になったときの正則化の意義は、AICのなどを用いた変数選択における欠点をある程度緩和できることにあります。\n",
    "\n",
    "* AICの欠点\n",
    "    * 変数の組み合わせ全通りに対して逐一モデルを推定　→　計算量が大変\n",
    "    * サンプルサイズよりも説明変数の種類数のほうが大きいデータが与えられた時のモデルを推定　→　最小二乗法や最尤法でパラメータを一意に推定することが困難\n",
    "    \n",
    "機械学習の立場になったときの正則化の意義は、過学習を抑えることにつきます。  \n",
    "機械学習にはさまざまな手法が提案されていますが、AICなどが計算できて変数選択が行えることは稀です。  \n",
    "正則化は過学習を抑えるためにさまざまなモデルで取り入れられています。\n",
    "\n"
   ]
  },
  {
   "cell_type": "markdown",
   "metadata": {},
   "source": [
    "## 第3章　PythonによるRige回帰・Lasso回帰\n",
    "\n",
    "第3章では実際に、Pythonを用いてRidge回帰やLasso回帰を推定します。  \n",
    "機械学習において中心的な役割を果たすsklearnを中心に使用していくことにします。\n",
    "\n",
    "### scikit-learn\n",
    "\n",
    "scikit-learnはPythonにおいて機械学習を適用するのに頻繁に用いられるパッケージです。sklearnと略します。\n",
    "\n",
    "### 分析の準備\n",
    "\n",
    "分析の準備として、`linear_model`をsklearnからインポートします。"
   ]
  },
  {
   "cell_type": "code",
   "execution_count": 1,
   "metadata": {},
   "outputs": [
    {
     "name": "stderr",
     "output_type": "stream",
     "text": [
      "/Users/kaito/anaconda/lib/python3.6/site-packages/statsmodels/compat/pandas.py:56: FutureWarning: The pandas.core.datetools module is deprecated and will be removed in a future version. Please use the pandas.tseries module instead.\n",
      "  from pandas.core import datetools\n"
     ]
    }
   ],
   "source": [
    "# 数値計算に使うライブラリ\n",
    "import numpy as np\n",
    "import pandas as pd\n",
    "import scipy as sp\n",
    "from scipy import stats\n",
    "\n",
    "# グラフを描画するライブラリ\n",
    "from matplotlib import pyplot as plt\n",
    "import seaborn as sns\n",
    "sns.set()\n",
    "\n",
    "# 統計モデルを推定するライブラリ(ワーニングが出ることもあります)\n",
    "import statsmodels.formula.api as smf\n",
    "import statsmodels.api as sm\n",
    "\n",
    "# 機械学習法を適用するためのライブラリ\n",
    "from sklearn import linear_model\n",
    "\n",
    "# 表示桁数の指定\n",
    "%precision 3\n",
    "# グラフをjupyter Notebook内に表示させるための指定\n",
    "%matplotlib inline"
   ]
  },
  {
   "cell_type": "code",
   "execution_count": 4,
   "metadata": {},
   "outputs": [
    {
     "data": {
      "text/html": [
       "<div>\n",
       "<style>\n",
       "    .dataframe thead tr:only-child th {\n",
       "        text-align: right;\n",
       "    }\n",
       "\n",
       "    .dataframe thead th {\n",
       "        text-align: left;\n",
       "    }\n",
       "\n",
       "    .dataframe tbody tr th {\n",
       "        vertical-align: top;\n",
       "    }\n",
       "</style>\n",
       "<table border=\"1\" class=\"dataframe\">\n",
       "  <thead>\n",
       "    <tr style=\"text-align: right;\">\n",
       "      <th></th>\n",
       "      <th>X_1</th>\n",
       "      <th>X_2</th>\n",
       "      <th>X_3</th>\n",
       "      <th>X_4</th>\n",
       "      <th>X_5</th>\n",
       "      <th>X_6</th>\n",
       "      <th>X_7</th>\n",
       "      <th>X_8</th>\n",
       "      <th>X_9</th>\n",
       "      <th>X_10</th>\n",
       "      <th>...</th>\n",
       "      <th>X_91</th>\n",
       "      <th>X_92</th>\n",
       "      <th>X_93</th>\n",
       "      <th>X_94</th>\n",
       "      <th>X_95</th>\n",
       "      <th>X_96</th>\n",
       "      <th>X_97</th>\n",
       "      <th>X_98</th>\n",
       "      <th>X_99</th>\n",
       "      <th>X_100</th>\n",
       "    </tr>\n",
       "  </thead>\n",
       "  <tbody>\n",
       "    <tr>\n",
       "      <th>0</th>\n",
       "      <td>1.0000</td>\n",
       "      <td>0.5000</td>\n",
       "      <td>0.3333</td>\n",
       "      <td>0.2500</td>\n",
       "      <td>0.2000</td>\n",
       "      <td>0.1667</td>\n",
       "      <td>0.1429</td>\n",
       "      <td>0.1250</td>\n",
       "      <td>0.1111</td>\n",
       "      <td>0.1000</td>\n",
       "      <td>...</td>\n",
       "      <td>0.0110</td>\n",
       "      <td>0.0109</td>\n",
       "      <td>0.0108</td>\n",
       "      <td>0.0106</td>\n",
       "      <td>0.0105</td>\n",
       "      <td>0.0104</td>\n",
       "      <td>0.0103</td>\n",
       "      <td>0.0102</td>\n",
       "      <td>0.0101</td>\n",
       "      <td>0.0100</td>\n",
       "    </tr>\n",
       "    <tr>\n",
       "      <th>1</th>\n",
       "      <td>0.5000</td>\n",
       "      <td>0.3333</td>\n",
       "      <td>0.2500</td>\n",
       "      <td>0.2000</td>\n",
       "      <td>0.1667</td>\n",
       "      <td>0.1429</td>\n",
       "      <td>0.1250</td>\n",
       "      <td>0.1111</td>\n",
       "      <td>0.1000</td>\n",
       "      <td>0.0909</td>\n",
       "      <td>...</td>\n",
       "      <td>0.0109</td>\n",
       "      <td>0.0108</td>\n",
       "      <td>0.0106</td>\n",
       "      <td>0.0105</td>\n",
       "      <td>0.0104</td>\n",
       "      <td>0.0103</td>\n",
       "      <td>0.0102</td>\n",
       "      <td>0.0101</td>\n",
       "      <td>0.0100</td>\n",
       "      <td>0.0099</td>\n",
       "    </tr>\n",
       "    <tr>\n",
       "      <th>2</th>\n",
       "      <td>0.3333</td>\n",
       "      <td>0.2500</td>\n",
       "      <td>0.2000</td>\n",
       "      <td>0.1667</td>\n",
       "      <td>0.1429</td>\n",
       "      <td>0.1250</td>\n",
       "      <td>0.1111</td>\n",
       "      <td>0.1000</td>\n",
       "      <td>0.0909</td>\n",
       "      <td>0.0833</td>\n",
       "      <td>...</td>\n",
       "      <td>0.0108</td>\n",
       "      <td>0.0106</td>\n",
       "      <td>0.0105</td>\n",
       "      <td>0.0104</td>\n",
       "      <td>0.0103</td>\n",
       "      <td>0.0102</td>\n",
       "      <td>0.0101</td>\n",
       "      <td>0.0100</td>\n",
       "      <td>0.0099</td>\n",
       "      <td>0.0098</td>\n",
       "    </tr>\n",
       "  </tbody>\n",
       "</table>\n",
       "<p>3 rows × 100 columns</p>\n",
       "</div>"
      ],
      "text/plain": [
       "      X_1     X_2     X_3     X_4     X_5     X_6     X_7     X_8     X_9  \\\n",
       "0  1.0000  0.5000  0.3333  0.2500  0.2000  0.1667  0.1429  0.1250  0.1111   \n",
       "1  0.5000  0.3333  0.2500  0.2000  0.1667  0.1429  0.1250  0.1111  0.1000   \n",
       "2  0.3333  0.2500  0.2000  0.1667  0.1429  0.1250  0.1111  0.1000  0.0909   \n",
       "\n",
       "     X_10   ...      X_91    X_92    X_93    X_94    X_95    X_96    X_97  \\\n",
       "0  0.1000   ...    0.0110  0.0109  0.0108  0.0106  0.0105  0.0104  0.0103   \n",
       "1  0.0909   ...    0.0109  0.0108  0.0106  0.0105  0.0104  0.0103  0.0102   \n",
       "2  0.0833   ...    0.0108  0.0106  0.0105  0.0104  0.0103  0.0102  0.0101   \n",
       "\n",
       "     X_98    X_99   X_100  \n",
       "0  0.0102  0.0101  0.0100  \n",
       "1  0.0101  0.0100  0.0099  \n",
       "2  0.0100  0.0099  0.0098  \n",
       "\n",
       "[3 rows x 100 columns]"
      ]
     },
     "execution_count": 4,
     "metadata": {},
     "output_type": "execute_result"
    }
   ],
   "source": [
    "# ファイルからのデータ読み込み\n",
    "\"\"\"\n",
    "サンプルサイズは150で、説明変数が100個あるデータ\n",
    "\"\"\"\n",
    "X = pd.read_csv(\"7-3-1-large-data.csv\")\n",
    "X.head(3)"
   ]
  },
  {
   "cell_type": "markdown",
   "metadata": {},
   "source": [
    "### 実装：標準化\n",
    "\n",
    "まずは、データの標準化をします。  \n",
    "標準化は、各々の変数から平均値を引いて、標準偏差で割るのでした。こうすることにより、平均0、標準偏差1になります。"
   ]
  },
  {
   "cell_type": "code",
   "execution_count": 6,
   "metadata": {},
   "outputs": [
    {
     "name": "stdout",
     "output_type": "stream",
     "text": [
      "X_1   -0.0\n",
      "X_2   -0.0\n",
      "X_3    0.0\n",
      "dtype: float64\n",
      "X_1    1.0\n",
      "X_2    1.0\n",
      "X_3    1.0\n",
      "dtype: float64\n"
     ]
    }
   ],
   "source": [
    "# 標準化\n",
    "X -= sp.mean(X, axis = 0)\n",
    "X /= sp.std(X, ddof = 1, axis = 0)\n",
    "\n",
    "# 確認\n",
    "print(sp.mean(X, axis = 0).head(3).round(3))\n",
    "\n",
    "# 確認\n",
    "print(sp.std(X, ddof = 1, axis = 0).head(3))"
   ]
  },
  {
   "cell_type": "markdown",
   "metadata": {},
   "source": [
    "### シミュレーションで応答変数を作る\n",
    "\n",
    "読み込んだデータには応答変数がなかったので、これから作成します。\n",
    "\n",
    "正しい係数は5であるとして、応答変数を作ります。  \n",
    "正規分布に従うノイズが入っていることにします。"
   ]
  },
  {
   "cell_type": "code",
   "execution_count": 7,
   "metadata": {
    "collapsed": true
   },
   "outputs": [],
   "source": [
    "# 応答変数を作る\n",
    "\n",
    "# 正規分布に従うノイズ\n",
    "np.random.seed(1)\n",
    "noise =  sp.stats.norm.rvs(loc = 0, scale = 1, size = X.shape[0])\n",
    "\n",
    "# 正しい係数は5として応答変数を作る\n",
    "y =  X.X_1 * 5 + noise"
   ]
  },
  {
   "cell_type": "markdown",
   "metadata": {},
   "source": [
    "応答変数とX_1の関係を図示してみます。"
   ]
  },
  {
   "cell_type": "code",
   "execution_count": 8,
   "metadata": {},
   "outputs": [
    {
     "name": "stderr",
     "output_type": "stream",
     "text": [
      "/Users/kaito/anaconda/lib/python3.6/site-packages/scipy/stats/stats.py:1633: FutureWarning: Using a non-tuple sequence for multidimensional indexing is deprecated; use `arr[tuple(seq)]` instead of `arr[seq]`. In the future this will be interpreted as an array index, `arr[np.array(seq)]`, which will result either in an error or a different result.\n",
      "  return np.add.reduce(sorted[indexer] * weights, axis=axis) / sumval\n"
     ]
    },
    {
     "data": {
      "text/plain": [
       "<seaborn.axisgrid.JointGrid at 0x11bf09a90>"
      ]
     },
     "execution_count": 8,
     "metadata": {},
     "output_type": "execute_result"
    },
    {
     "data": {
      "image/png": "[encoded data removed]",
      "text/plain": [
       "<matplotlib.figure.Figure at 0x11bf09ba8>"
      ]
     },
     "metadata": {},
     "output_type": "display_data"
    }
   ],
   "source": [
    "# 応答変数と説明変数をまとめる\n",
    "large_data = pd.concat([pd.DataFrame({\"y\":y}), X], axis = 1)\n",
    "# 散布図の作成\n",
    "sns.jointplot(y = \"y\", x = \"X_1\", data = large_data,\n",
    "              color = 'black')"
   ]
  },
  {
   "cell_type": "markdown",
   "metadata": {},
   "source": [
    "### 実装：statsmodelsで普通の最小二乗法を適用する\n",
    "\n",
    "正則化の効果を確かめるためにも、まずは通常の最小二乗法を用いてパラメータ推定を行います。  \n",
    "説明変数が多いとformulaを書くのがやや面倒なので、以下のように説明変数と応答変数を指定してモデル化します。"
   ]
  },
  {
   "cell_type": "code",
   "execution_count": 9,
   "metadata": {},
   "outputs": [
    {
     "data": {
      "text/plain": [
       "X_1     14.755018\n",
       "X_2    -87.462851\n",
       "X_3    211.743136\n",
       "dtype: float64"
      ]
     },
     "execution_count": 9,
     "metadata": {},
     "output_type": "execute_result"
    }
   ],
   "source": [
    "lm_statsmodels = sm.OLS(endog = y, exog = X).fit()\n",
    "lm_statsmodels.params.head(3)"
   ]
  },
  {
   "cell_type": "markdown",
   "metadata": {},
   "source": [
    "結果をみると、応答変数の作成時とは異なる、おかしな値が推定されていることが分かります。\n",
    "\n",
    "### 実装：sklearnで通常の最小二乗法を適用する\n",
    "\n",
    "正則化を用いたモデルに移る前に、sklearnを使って通常の最小二乗法を用いた正規線形モデルを推定してみます。\n",
    "\n",
    "先程と同様に、絶対値が大きな係数が推定されていることに注目。"
   ]
  },
  {
   "cell_type": "code",
   "execution_count": 10,
   "metadata": {},
   "outputs": [
    {
     "data": {
      "text/plain": [
       "array([ 1.476e+01, -8.746e+01,  2.117e+02, -9.415e+01, -6.817e+01,\n",
       "       -9.284e+01,  1.761e+00,  8.170e+01,  6.680e+01,  2.788e+01,\n",
       "       -3.288e+01,  6.818e+01, -1.699e+01,  2.208e+01, -4.855e+01,\n",
       "       -3.390e+01, -4.536e+01,  9.728e+00,  2.481e+01,  1.858e+00,\n",
       "        1.599e+00, -2.838e+01,  6.477e+00, -5.980e+01,  3.532e+01,\n",
       "       -1.302e+01,  4.108e+01, -4.303e+01,  5.247e+01,  1.920e+00,\n",
       "        3.342e+01,  8.490e+00,  8.329e+00, -2.293e+01, -3.577e+01,\n",
       "       -1.337e+01,  3.178e+01, -2.018e+01, -2.654e+01, -3.523e+01,\n",
       "        1.927e+01,  4.823e+01, -1.655e+00,  5.749e-01, -1.893e+01,\n",
       "        7.370e-01,  1.047e+01, -7.732e+00, -1.854e+00, -2.559e-01,\n",
       "       -5.045e+00, -4.227e+00,  2.523e+01,  1.616e+01, -1.310e+01,\n",
       "        6.455e+00, -1.332e+01, -2.291e+01, -1.202e+01,  7.745e+00,\n",
       "        1.755e+01,  5.997e+00,  4.648e+00,  4.120e+00, -1.825e+00,\n",
       "        5.366e+00,  4.546e+00, -2.598e+00, -4.091e+00,  7.496e+00,\n",
       "        3.100e+01,  1.530e+01, -5.323e+00, -1.509e+01, -3.801e+00,\n",
       "       -6.584e+00, -7.203e-02, -4.237e+00,  3.355e+00,  3.176e+00,\n",
       "        6.025e+00, -2.422e-01,  2.628e+00, -2.131e-02, -8.349e+00,\n",
       "       -5.091e+00, -5.060e+00, -4.779e+00,  7.645e+00,  1.797e+00,\n",
       "        4.276e+00,  1.418e-01,  2.800e+00,  3.146e+00, -5.188e+00,\n",
       "       -2.479e+00, -1.306e+01, -5.545e+00, -2.923e+00,  2.945e+00])"
      ]
     },
     "execution_count": 10,
     "metadata": {},
     "output_type": "execute_result"
    }
   ],
   "source": [
    "# どんなモデルを作るかをまずは指定する\n",
    "lm_sklearn = linear_model.LinearRegression()\n",
    "# データを指定して、fit関数によってモデルを推定\n",
    "lm_sklearn.fit(X, y)\n",
    "# coef_によって推定されたパラメタ(array型)を確認することができる\n",
    "lm_sklearn.coef_"
   ]
  },
  {
   "cell_type": "markdown",
   "metadata": {},
   "source": [
    "### 実装：Ridge回帰-罰則項の影響\n",
    "\n",
    "通常の最小二乗法がうまくいかないことがわかったので、正則化を行います。まずはRidge回帰を用います。  \n",
    "正則化において重要なのは、正則化の強度$\\alpha$の決定です。正則化の強度$\\alpha$がもたらす影響を調べるところから始めます。\n",
    "\n",
    "まずは$\\alpha$を50通り作ります。\n",
    "\n",
    "`np.logspace`は`np.arange`と似たもので、底を10とした対数をとると等差数列になります。"
   ]
  },
  {
   "cell_type": "code",
   "execution_count": 11,
   "metadata": {
    "collapsed": true
   },
   "outputs": [],
   "source": [
    "# αを変化させる\n",
    "n_alphas = 50\n",
    "ridge_alphas = np.logspace(-2, 0.7, n_alphas)"
   ]
  },
  {
   "cell_type": "code",
   "execution_count": 12,
   "metadata": {},
   "outputs": [
    {
     "data": {
      "text/plain": [
       "array([-2.   , -1.945, -1.89 , -1.835, -1.78 , -1.724, -1.669, -1.614,\n",
       "       -1.559, -1.504, -1.449, -1.394, -1.339, -1.284, -1.229, -1.173,\n",
       "       -1.118, -1.063, -1.008, -0.953, -0.898, -0.843, -0.788, -0.733,\n",
       "       -0.678, -0.622, -0.567, -0.512, -0.457, -0.402, -0.347, -0.292,\n",
       "       -0.237, -0.182, -0.127, -0.071, -0.016,  0.039,  0.094,  0.149,\n",
       "        0.204,  0.259,  0.314,  0.369,  0.424,  0.48 ,  0.535,  0.59 ,\n",
       "        0.645,  0.7  ])"
      ]
     },
     "execution_count": 12,
     "metadata": {},
     "output_type": "execute_result"
    }
   ],
   "source": [
    "# 参考\n",
    "sp.log10(ridge_alphas)"
   ]
  },
  {
   "cell_type": "markdown",
   "metadata": {},
   "source": [
    "$\\alpha$を50通り変えながら、50回Ridge回帰を推定します。Ridge回帰には`linear_model.Ridge`関数を用います。  \n",
    "引数には$\\alpha$と「切片を推定しない」という指定を入れます。"
   ]
  },
  {
   "cell_type": "code",
   "execution_count": 18,
   "metadata": {
    "collapsed": true
   },
   "outputs": [],
   "source": [
    "# αを変えて何度もRidge回帰を実行\n",
    "\n",
    "# 推定された回帰係数を格納するリスト\n",
    "ridge_coefs = []\n",
    "# forループで何度もRidge回帰を推定する\n",
    "for a in ridge_alphas:\n",
    "    ridge = linear_model.Ridge(alpha = a, fit_intercept = False)\n",
    "    ridge.fit(X, y)\n",
    "    ridge_coefs.append(ridge.coef_)"
   ]
  },
  {
   "cell_type": "code",
   "execution_count": 19,
   "metadata": {},
   "outputs": [
    {
     "data": {
      "text/plain": [
       "(50, 100)"
      ]
     },
     "execution_count": 19,
     "metadata": {},
     "output_type": "execute_result"
    }
   ],
   "source": [
    "# アレイに変換\n",
    "ridge_coefs = np.array(ridge_coefs)\n",
    "ridge_coefs.shape"
   ]
  },
  {
   "cell_type": "markdown",
   "metadata": {},
   "source": [
    "行数の50は$\\alpha$の変化の数で、列数の100は説明変数の個数を示します。  \n",
    "\n",
    "`plt.plot(log_alphas, ridge_coefs, color = 'black')`で`log_alphas`の長さが`ridge_coefs`の行数と一致していたらforループを用いることなく、自動で複数の線を引いてくれる。\n",
    "\n",
    "結果を見やすくするために、横軸を$-\\log_{10}\\alpha$に変換したうえでプロットします。  \n",
    "このようなグラフを**solution-path**と呼びます。"
   ]
  },
  {
   "cell_type": "code",
   "execution_count": 29,
   "metadata": {},
   "outputs": [
    {
     "data": {
      "text/plain": [
       "<matplotlib.text.Text at 0x125e19748>"
      ]
     },
     "execution_count": 29,
     "metadata": {},
     "output_type": "execute_result"
    },
    {
     "data": {
      "image/png": "[encoded data removed]",
      "text/plain": [
       "<matplotlib.figure.Figure at 0x125ec3668>"
      ]
     },
     "metadata": {},
     "output_type": "display_data"
    }
   ],
   "source": [
    "# 横軸に-log10(α)、縦軸に係数を置いた折れ線グラフ\n",
    "# 100回繰り返さなくても、自動で線を100本引いてくれる\n",
    "\n",
    "# αを変換\n",
    "log_alphas = -sp.log10(ridge_alphas)\n",
    "# 横軸に-log10(α)、縦軸に係数を置いた折れ線グラフ\n",
    "plt.plot(log_alphas, ridge_coefs, color = 'black')\n",
    "# 説明変数X_1の係数がわかるように目印を入れる\n",
    "plt.text(max(log_alphas) + 0.1, np.array(ridge_coefs)[0,0], \"X_1\")\n",
    "# X軸の範囲\n",
    "plt.xlim([min(log_alphas) - 0.1, max(log_alphas) + 0.3])\n",
    "# 軸ラベル\n",
    "plt.title(\"Ridge\")\n",
    "plt.xlabel(\"- log10(alpha)\")\n",
    "plt.ylabel(\"Coefficients\")"
   ]
  },
  {
   "cell_type": "markdown",
   "metadata": {},
   "source": [
    "横軸が$-\\log_{10}\\alpha$なので、左に行けば行くほど$\\alpha$の値が大きく正規化の強度が強いことに注意してください。  \n",
    "左側だと（大きく正規化の強度が強い）絶対値が小さな係数が推定される傾向があり、右側に行く（大きく正規化の強度が弱い）と絶対値の大きな係数が推定されやすくなることがわかります。\n",
    "\n",
    "X_1の係数は、$-\\log_{10}\\alpha$が0の付近では、他の係数と比較して絶対値がかなり大きな係数になっているようです。"
   ]
  },
  {
   "cell_type": "markdown",
   "metadata": {},
   "source": [
    "### 実装：Ridge回帰-最適な正則化の強度の決定\n",
    "\n",
    "solution-pathから$\\alpha$によって係数の値が大きく変わることがわかりました。  \n",
    "ここからは、クロスバリデーションを用いて予測精度が最も良くなる$\\alpha$の大きさを求める作業に移ります。\n",
    "\n",
    "一連の手順は、`RidgeCV`関数を用いて10分割交差検定を行います。"
   ]
  },
  {
   "cell_type": "code",
   "execution_count": 30,
   "metadata": {},
   "outputs": [
    {
     "data": {
      "text/plain": [
       "0.237"
      ]
     },
     "execution_count": 30,
     "metadata": {},
     "output_type": "execute_result"
    }
   ],
   "source": [
    "# CVで最適なαを求める\n",
    "ridge_best = linear_model.RidgeCV(\n",
    "    cv = 10, alphas = ridge_alphas, fit_intercept = False)\n",
    "ridge_best.fit(X, y) \n",
    "\n",
    "# 最適な-log10(α)\n",
    "-sp.log10(ridge_best.alpha_)"
   ]
  },
  {
   "cell_type": "markdown",
   "metadata": {},
   "source": [
    "$-\\log_{10}\\alpha = 0.237$の地点を先ほどのsolution-pathでみると、X_1以外の説明変数の係数の絶対値が0に近くなっていることがわかります。  \n",
    "\n",
    "最適な$\\alpha$と推定された係数の一覧は以下の通りです。"
   ]
  },
  {
   "cell_type": "code",
   "execution_count": 31,
   "metadata": {},
   "outputs": [
    {
     "data": {
      "text/plain": [
       "0.580"
      ]
     },
     "execution_count": 31,
     "metadata": {},
     "output_type": "execute_result"
    }
   ],
   "source": [
    "# 最適なα\n",
    "ridge_best.alpha_"
   ]
  },
  {
   "cell_type": "code",
   "execution_count": 32,
   "metadata": {},
   "outputs": [
    {
     "data": {
      "text/plain": [
       "array([ 4.463,  1.288,  0.293, -0.091, -0.201, -0.233, -0.215, -0.206,\n",
       "       -0.145, -0.135, -0.155, -0.046, -0.097, -0.017, -0.11 , -0.012,\n",
       "       -0.094,  0.013, -0.018, -0.031,  0.025, -0.029,  0.043, -0.087,\n",
       "        0.127,  0.021,  0.055, -0.077,  0.141, -0.007,  0.099,  0.116,\n",
       "       -0.044,  0.037, -0.034,  0.015,  0.123, -0.171, -0.007, -0.182,\n",
       "        0.09 ,  0.222,  0.035, -0.032, -0.008,  0.025,  0.338, -0.193,\n",
       "       -0.108,  0.212, -0.128, -0.246,  0.249,  0.128, -0.155,  0.27 ,\n",
       "        0.03 , -0.165, -0.178,  0.158, -0.011,  0.013,  0.194,  0.134,\n",
       "       -0.156, -0.018,  0.256,  0.223, -0.185,  0.006,  0.535,  0.181,\n",
       "       -0.348, -0.123,  0.226, -0.043, -0.115, -0.053,  0.209,  0.189,\n",
       "       -0.042, -0.205, -0.099,  0.059, -0.224,  0.15 , -0.039, -0.113,\n",
       "        0.21 ,  0.012,  0.129, -0.032, -0.022, -0.229, -0.198,  0.245,\n",
       "       -0.305, -0.396, -0.163,  0.164])"
      ]
     },
     "execution_count": 32,
     "metadata": {},
     "output_type": "execute_result"
    }
   ],
   "source": [
    "# 最適なαの時の、回帰係数\n",
    "ridge_best.coef_"
   ]
  },
  {
   "cell_type": "markdown",
   "metadata": {},
   "source": [
    "説明変数X_1の係数が4.463となっており、通常の最小二乗法のX_1の係数が14.76だったことを踏まえると、正解とかなり近い値になっていることがわかります。  \n",
    "ただし、他の説明変数の係数を見ると、それなりに小さな値になっているものの、影響がないとは言えません。"
   ]
  },
  {
   "cell_type": "markdown",
   "metadata": {},
   "source": [
    "###  実装：Lasso回帰 - 罰則項の影響\n",
    "\n",
    "続いて、Lasso回帰に移ります。  \n",
    "solution-pathがRidge回帰とどのように異なるかを確認していきます。  \n",
    "`lasso_path`という便利な関数があるのでそれを用います。"
   ]
  },
  {
   "cell_type": "code",
   "execution_count": 37,
   "metadata": {
    "collapsed": true
   },
   "outputs": [],
   "source": [
    "# αを変えて何度もLasso回帰を実行\n",
    "lasso_alphas, lasso_coefs, _ = linear_model.lasso_path(\n",
    "    X, y, fit_intercept = False)"
   ]
  },
  {
   "cell_type": "code",
   "execution_count": 38,
   "metadata": {},
   "outputs": [
    {
     "data": {
      "text/plain": [
       "<matplotlib.text.Text at 0x126458fd0>"
      ]
     },
     "execution_count": 38,
     "metadata": {},
     "output_type": "execute_result"
    },
    {
     "data": {
      "image/png": "[encoded data removed]",
      "text/plain": [
       "<matplotlib.figure.Figure at 0x12647a588>"
      ]
     },
     "metadata": {},
     "output_type": "display_data"
    }
   ],
   "source": [
    "# Lasso回帰のsolution-path\n",
    "\n",
    "# αを変換\n",
    "log_alphas = -sp.log10(lasso_alphas)\n",
    "# 横軸に-log10(α)、縦軸に係数を置いた折れ線グラフ\n",
    "plt.plot(log_alphas, lasso_coefs.T, color = 'black')\n",
    "# 説明変数X_1の係数がわかるように目印を入れる\n",
    "plt.text(max(log_alphas) + 0.1, lasso_coefs[0, -1], \"X_1\")\n",
    "# X軸の範囲\n",
    "plt.xlim([min(log_alphas)-0.1, max(log_alphas) + 0.3])\n",
    "# 軸ラベル\n",
    "plt.title(\"Lasso\")\n",
    "plt.xlabel(\"- log10(alpha)\")\n",
    "plt.ylabel(\"Coefficients\")"
   ]
  },
  {
   "cell_type": "markdown",
   "metadata": {},
   "source": [
    "X_1の係数以外はほぼ0となりました。これが$L_1$正則化の効果です。"
   ]
  },
  {
   "cell_type": "markdown",
   "metadata": {},
   "source": [
    "### 実装：Lasso回帰-最適な正則化の強度の決定\n",
    "\n",
    "Ridge回帰のときと同じく、`LassoCV`という関数でクロスバリデーションを行い$\\alpha$を決定します。"
   ]
  },
  {
   "cell_type": "code",
   "execution_count": 39,
   "metadata": {},
   "outputs": [
    {
     "data": {
      "text/plain": [
       "2.301"
      ]
     },
     "execution_count": 39,
     "metadata": {},
     "output_type": "execute_result"
    }
   ],
   "source": [
    "# CVで最適なαを求める\n",
    "lasso_best = linear_model.LassoCV(\n",
    "    cv = 10, alphas = lasso_alphas, fit_intercept = False)\n",
    "lasso_best.fit(X, y)\n",
    "\n",
    "# 最適な-log(α)\n",
    "-sp.log10(lasso_best.alpha_)"
   ]
  },
  {
   "cell_type": "code",
   "execution_count": 41,
   "metadata": {},
   "outputs": [
    {
     "data": {
      "text/plain": [
       "0.005"
      ]
     },
     "execution_count": 41,
     "metadata": {},
     "output_type": "execute_result"
    }
   ],
   "source": [
    "# 最適なα\n",
    "lasso_best.alpha_"
   ]
  },
  {
   "cell_type": "markdown",
   "metadata": {},
   "source": [
    "推定された係数の一覧は以下のとおりです。  \n",
    "X_1の係数がおおよそ5となり、その他のほとんどの係数が0となったため、変数選択の効果を請けて正しくモデルを推定できた。"
   ]
  },
  {
   "cell_type": "code",
   "execution_count": 42,
   "metadata": {},
   "outputs": [
    {
     "data": {
      "text/plain": [
       "array([ 5.336e+00, -0.000e+00, -0.000e+00, -3.043e-01, -4.121e-02,\n",
       "       -0.000e+00, -0.000e+00, -0.000e+00, -0.000e+00, -0.000e+00,\n",
       "       -0.000e+00, -0.000e+00, -0.000e+00, -0.000e+00, -0.000e+00,\n",
       "       -0.000e+00, -0.000e+00, -0.000e+00, -0.000e+00, -0.000e+00,\n",
       "       -0.000e+00, -0.000e+00, -0.000e+00, -0.000e+00, -0.000e+00,\n",
       "       -0.000e+00, -0.000e+00, -0.000e+00,  0.000e+00, -0.000e+00,\n",
       "        0.000e+00,  0.000e+00, -0.000e+00,  0.000e+00,  0.000e+00,\n",
       "        0.000e+00,  0.000e+00, -0.000e+00,  0.000e+00,  0.000e+00,\n",
       "        0.000e+00,  0.000e+00,  0.000e+00,  0.000e+00,  0.000e+00,\n",
       "        0.000e+00,  0.000e+00,  0.000e+00,  0.000e+00,  0.000e+00,\n",
       "        0.000e+00,  0.000e+00,  0.000e+00,  0.000e+00,  0.000e+00,\n",
       "        0.000e+00,  0.000e+00,  0.000e+00,  0.000e+00,  0.000e+00,\n",
       "        0.000e+00,  0.000e+00,  0.000e+00,  0.000e+00,  0.000e+00,\n",
       "        0.000e+00,  0.000e+00,  0.000e+00,  0.000e+00,  0.000e+00,\n",
       "        8.425e-03,  0.000e+00,  0.000e+00,  0.000e+00,  0.000e+00,\n",
       "        0.000e+00,  0.000e+00,  0.000e+00,  0.000e+00,  0.000e+00,\n",
       "        0.000e+00,  0.000e+00,  0.000e+00,  0.000e+00,  0.000e+00,\n",
       "        0.000e+00,  0.000e+00,  0.000e+00,  0.000e+00,  0.000e+00,\n",
       "        0.000e+00,  0.000e+00,  0.000e+00,  0.000e+00,  0.000e+00,\n",
       "        7.192e-04,  0.000e+00,  0.000e+00,  0.000e+00,  0.000e+00])"
      ]
     },
     "execution_count": 42,
     "metadata": {},
     "output_type": "execute_result"
    }
   ],
   "source": [
    "# 最適なαの時の、回帰係数\n",
    "lasso_best.coef_"
   ]
  },
  {
   "cell_type": "markdown",
   "metadata": {},
   "source": [
    "----\n",
    "\n",
    "## おまけ - データを標準化しないとどうなるのか\n",
    "\n",
    "「データを標準化しないとパラメータ推定時に影響を与える」\n",
    "\n",
    "実際にどんな影響を与えるのかを確かめる"
   ]
  },
  {
   "cell_type": "code",
   "execution_count": 44,
   "metadata": {},
   "outputs": [],
   "source": [
    "# ファイルからのデータ読み込み\n",
    "\"\"\"\n",
    "サンプルサイズは150で、説明変数が100個あるデータ\n",
    "\"\"\"\n",
    "X = pd.read_csv(\"7-3-1-large-data.csv\")"
   ]
  },
  {
   "cell_type": "code",
   "execution_count": 45,
   "metadata": {
    "collapsed": true
   },
   "outputs": [],
   "source": [
    "# 応答変数を作る\n",
    "\n",
    "# 正規分布に従うノイズ\n",
    "np.random.seed(1)\n",
    "noise =  sp.stats.norm.rvs(loc = 0, scale = 1, size = X.shape[0])\n",
    "\n",
    "# 正しい係数は5として応答変数を作る\n",
    "y =  X.X_1 * 5 + noise"
   ]
  },
  {
   "cell_type": "code",
   "execution_count": 46,
   "metadata": {},
   "outputs": [
    {
     "name": "stderr",
     "output_type": "stream",
     "text": [
      "/Users/kaito/anaconda/lib/python3.6/site-packages/scipy/stats/stats.py:1633: FutureWarning: Using a non-tuple sequence for multidimensional indexing is deprecated; use `arr[tuple(seq)]` instead of `arr[seq]`. In the future this will be interpreted as an array index, `arr[np.array(seq)]`, which will result either in an error or a different result.\n",
      "  return np.add.reduce(sorted[indexer] * weights, axis=axis) / sumval\n"
     ]
    },
    {
     "data": {
      "text/plain": [
       "<seaborn.axisgrid.JointGrid at 0x12686b9b0>"
      ]
     },
     "execution_count": 46,
     "metadata": {},
     "output_type": "execute_result"
    },
    {
     "data": {
      "image/png": "[encoded data removed]",
      "text/plain": [
       "<matplotlib.figure.Figure at 0x12686bba8>"
      ]
     },
     "metadata": {},
     "output_type": "display_data"
    }
   ],
   "source": [
    "# 応答変数と説明変数をまとめる\n",
    "large_data = pd.concat([pd.DataFrame({\"y\":y}), X], axis = 1)\n",
    "# 散布図の作成\n",
    "sns.jointplot(y = \"y\", x = \"X_1\", data = large_data,\n",
    "              color = 'black')"
   ]
  },
  {
   "cell_type": "markdown",
   "metadata": {},
   "source": [
    "### Ridge回帰"
   ]
  },
  {
   "cell_type": "code",
   "execution_count": 49,
   "metadata": {},
   "outputs": [
    {
     "data": {
      "text/plain": [
       "<matplotlib.text.Text at 0x126dbf1d0>"
      ]
     },
     "execution_count": 49,
     "metadata": {},
     "output_type": "execute_result"
    },
    {
     "data": {
      "image/png": "[encoded data removed]",
      "text/plain": [
       "<matplotlib.figure.Figure at 0x126d5da90>"
      ]
     },
     "metadata": {},
     "output_type": "display_data"
    }
   ],
   "source": [
    "# αを変えて何度もRidge回帰を実行\n",
    "\n",
    "# 推定された回帰係数を格納するリスト\n",
    "ridge_coefs = []\n",
    "# forループで何度もRidge回帰を推定する\n",
    "for a in ridge_alphas:\n",
    "    ridge = linear_model.Ridge(alpha = a, fit_intercept = False)\n",
    "    ridge.fit(X, y)\n",
    "    ridge_coefs.append(ridge.coef_)\n",
    "    \n",
    "\n",
    "# アレイに変換\n",
    "ridge_coefs = np.array(ridge_coefs)\n",
    "ridge_coefs.shape\n",
    "    \n",
    "# 横軸に-log10(α)、縦軸に係数を置いた折れ線グラフ\n",
    "# 100回繰り返さなくても、自動で線を100本引いてくれる\n",
    "\n",
    "# αを変換\n",
    "log_alphas = -sp.log10(ridge_alphas)\n",
    "# 横軸に-log10(α)、縦軸に係数を置いた折れ線グラフ\n",
    "plt.plot(log_alphas, ridge_coefs, color = 'black')\n",
    "# 説明変数X_1の係数がわかるように目印を入れる\n",
    "plt.text(max(log_alphas) + 0.1, np.array(ridge_coefs)[0,0], \"X_1\")\n",
    "# X軸の範囲\n",
    "plt.xlim([min(log_alphas) - 0.1, max(log_alphas) + 0.3])\n",
    "# 軸ラベル\n",
    "plt.title(\"Ridge\")\n",
    "plt.xlabel(\"- log10(alpha)\")\n",
    "plt.ylabel(\"Coefficients\")"
   ]
  },
  {
   "cell_type": "code",
   "execution_count": 52,
   "metadata": {},
   "outputs": [
    {
     "name": "stdout",
     "output_type": "stream",
     "text": [
      "最適な-log10(α)\n",
      "0.18163265306122445\n",
      "最適なα\n",
      "0.6582143509786953\n"
     ]
    }
   ],
   "source": [
    "# CVで最適なαを求める\n",
    "ridge_best = linear_model.RidgeCV(\n",
    "    cv = 10, alphas = ridge_alphas, fit_intercept = False)\n",
    "ridge_best.fit(X, y) \n",
    "\n",
    "print('最適な-log10(α)')\n",
    "print(-sp.log10(ridge_best.alpha_))\n",
    "\n",
    "print('最適なα')\n",
    "print(ridge_best.alpha_)"
   ]
  },
  {
   "cell_type": "code",
   "execution_count": 53,
   "metadata": {},
   "outputs": [
    {
     "data": {
      "text/plain": [
       "array([2.898, 1.118, 0.597, 0.367, 0.245, 0.173, 0.128, 0.098, 0.078,\n",
       "       0.063, 0.052, 0.046, 0.039, 0.036, 0.032, 0.031, 0.028, 0.028,\n",
       "       0.027, 0.027, 0.027, 0.026, 0.027, 0.026, 0.028, 0.027, 0.028,\n",
       "       0.027, 0.029, 0.028, 0.029, 0.029, 0.029, 0.03 , 0.03 , 0.03 ,\n",
       "       0.031, 0.03 , 0.031, 0.031, 0.032, 0.033, 0.032, 0.032, 0.032,\n",
       "       0.033, 0.034, 0.032, 0.033, 0.034, 0.033, 0.033, 0.035, 0.034,\n",
       "       0.034, 0.035, 0.034, 0.034, 0.034, 0.035, 0.035, 0.035, 0.035,\n",
       "       0.035, 0.034, 0.035, 0.035, 0.035, 0.034, 0.035, 0.036, 0.035,\n",
       "       0.034, 0.035, 0.035, 0.035, 0.035, 0.035, 0.035, 0.035, 0.035,\n",
       "       0.034, 0.034, 0.035, 0.034, 0.035, 0.035, 0.034, 0.035, 0.035,\n",
       "       0.035, 0.034, 0.034, 0.034, 0.034, 0.035, 0.034, 0.033, 0.034,\n",
       "       0.034])"
      ]
     },
     "execution_count": 53,
     "metadata": {},
     "output_type": "execute_result"
    }
   ],
   "source": [
    "# 最適なαの時の、回帰係数\n",
    "ridge_best.coef_"
   ]
  },
  {
   "cell_type": "markdown",
   "metadata": {},
   "source": [
    "係数が5とは程遠い2.898となって、ちゃんと推定できていない。"
   ]
  },
  {
   "cell_type": "markdown",
   "metadata": {},
   "source": [
    "### Lasso回帰"
   ]
  },
  {
   "cell_type": "code",
   "execution_count": 75,
   "metadata": {},
   "outputs": [
    {
     "name": "stderr",
     "output_type": "stream",
     "text": [
      "/Users/kaito/anaconda/lib/python3.6/site-packages/sklearn/linear_model/coordinate_descent.py:484: ConvergenceWarning: Objective did not converge. You might want to increase the number of iterations. Fitting data with very small alpha may cause precision problems.\n",
      "  ConvergenceWarning)\n"
     ]
    },
    {
     "data": {
      "text/plain": [
       "<matplotlib.text.Text at 0x1285417b8>"
      ]
     },
     "execution_count": 75,
     "metadata": {},
     "output_type": "execute_result"
    },
    {
     "data": {
      "image/png": "[encoded data removed]",
      "text/plain": [
       "<matplotlib.figure.Figure at 0x1279014a8>"
      ]
     },
     "metadata": {},
     "output_type": "display_data"
    }
   ],
   "source": [
    "# αを変えて何度もLasso回帰を実行\n",
    "lasso_alphas, lasso_coefs, _ = linear_model.lasso_path(\n",
    "    X, y, fit_intercept = False, max_iter=1000)\n",
    "\n",
    "# Lasso回帰のsolution-path\n",
    "\n",
    "# αを変換\n",
    "log_alphas = -sp.log10(lasso_alphas)\n",
    "# 横軸に-log10(α)、縦軸に係数を置いた折れ線グラフ\n",
    "plt.plot(log_alphas, lasso_coefs.T, color = 'black')\n",
    "# 説明変数X_1の係数がわかるように目印を入れる\n",
    "plt.text(max(log_alphas) + 0.1, lasso_coefs[0, -1], \"X_1\")\n",
    "# X軸の範囲\n",
    "plt.xlim([min(log_alphas)-0.1, max(log_alphas) + 0.3])\n",
    "# 軸ラベル\n",
    "plt.title(\"Lasso\")\n",
    "plt.xlabel(\"- log10(alpha)\")\n",
    "plt.ylabel(\"Coefficients\")"
   ]
  },
  {
   "cell_type": "code",
   "execution_count": 65,
   "metadata": {},
   "outputs": [
    {
     "name": "stdout",
     "output_type": "stream",
     "text": [
      "最適な-log(α)\n",
      "2.8552063841488518\n",
      "最適なα\n",
      "0.0013957049406291683\n"
     ]
    },
    {
     "name": "stderr",
     "output_type": "stream",
     "text": [
      "/Users/kaito/anaconda/lib/python3.6/site-packages/sklearn/linear_model/coordinate_descent.py:484: ConvergenceWarning: Objective did not converge. You might want to increase the number of iterations. Fitting data with very small alpha may cause precision problems.\n",
      "  ConvergenceWarning)\n"
     ]
    }
   ],
   "source": [
    "# CVで最適なαを求める\n",
    "lasso_best = linear_model.LassoCV(\n",
    "    cv = 10, alphas = lasso_alphas, fit_intercept = False, max_iter=1000)\n",
    "lasso_best.fit(X, y)\n",
    "\n",
    "print('最適な-log(α)')\n",
    "print(-sp.log10(lasso_best.alpha_))\n",
    "\n",
    "print('最適なα')\n",
    "print(lasso_best.alpha_)"
   ]
  },
  {
   "cell_type": "code",
   "execution_count": 66,
   "metadata": {},
   "outputs": [
    {
     "data": {
      "text/plain": [
       "array([ 5.404, -0.   , -0.   , -0.   , -0.   , -0.   , -0.   , -0.   ,\n",
       "       -0.   , -0.   , -0.   , -0.   , -0.   , -0.   , -0.   , -0.   ,\n",
       "       -0.   , -0.   , -0.   , -0.   , -0.   , -0.   , -0.   , -0.   ,\n",
       "       -0.   , -0.   , -0.   , -0.   , -0.   , -0.   , -0.   , -0.   ,\n",
       "        0.   ,  0.   ,  0.   ,  0.   ,  0.   ,  0.   ,  0.   ,  0.   ,\n",
       "        0.   ,  0.   ,  0.   ,  0.   ,  0.   ,  0.   ,  0.   ,  0.   ,\n",
       "        0.   ,  0.   ,  0.   ,  0.   ,  0.   ,  0.   ,  0.   ,  0.   ,\n",
       "        0.   ,  0.   ,  0.   ,  0.   ,  0.   ,  0.   ,  0.   ,  0.   ,\n",
       "        0.   ,  0.   ,  0.   ,  0.   ,  0.   ,  0.   ,  0.   ,  0.   ,\n",
       "        0.   ,  0.   ,  0.   ,  0.   ,  0.   ,  0.   ,  0.   ,  0.   ,\n",
       "        0.   ,  0.   ,  0.   ,  0.   ,  0.   ,  0.   ,  0.   ,  0.   ,\n",
       "        0.   ,  0.   ,  0.   ,  0.   ,  0.   ,  0.   ,  0.   ,  0.   ,\n",
       "        0.   ,  0.   ,  0.   ,  0.   ])"
      ]
     },
     "execution_count": 66,
     "metadata": {},
     "output_type": "execute_result"
    }
   ],
   "source": [
    "# 最適なαの時の、回帰係数\n",
    "lasso_best.coef_"
   ]
  },
  {
   "cell_type": "markdown",
   "metadata": {},
   "source": [
    "推定結果は良さそうだけど、ConvergenceWarningという警告が出ている"
   ]
  },
  {
   "cell_type": "markdown",
   "metadata": {},
   "source": [
    "### ConvergenceWarningとは\n",
    "\n",
    "\n",
    "Lasso回帰で説明変数の係数（パラメータ）を推定するときは以下のような更新式を用いて、収束するもしくは更新回数の上限が来るまで更新する。  \n",
    "ここでは、正則化の強さ$\\alpha$を$\\lambda$で表している。\n",
    "\n",
    "<img src='beta_eqn.png', width=480, height=320>\n",
    "\n",
    "$S$は**soft-thresholding operator**と呼ばれ、\n",
    "\n",
    "<img src='soft_threashold_operator.png', width=320, height=160>\n",
    "\n",
    "として表される。\n",
    "\n",
    "この式から分かるように、データ（$x$）の値が標準化せず大きいままだと、微小な正規化の強度$\\lambda$に対して更新の幅が小さくなる。  \n",
    "そのため、収束条件にたどり着くまでに更新回数の上限（`max_iter`）に達してしまい、「Objective did not converge」と警告が出てくる。\n",
    "\n",
    "この対策として、最も手っ取り早いのが本で述べていたデータの標準化で、標準化してもConvergenceWarningが出る場合は、`max_iter`を大きくすることで対応できる。\n",
    "\n",
    "参照：[Lassoの理論と実装 -スパースな解の推定アルゴリズム-](https://satopirka.com/2017/10/lasso%E3%81%AE%E7%90%86%E8%AB%96%E3%81%A8%E5%AE%9F%E8%A3%85--%E3%82%B9%E3%83%91%E3%83%BC%E3%82%B9%E3%81%AA%E8%A7%A3%E3%81%AE%E6%8E%A8%E5%AE%9A%E3%82%A2%E3%83%AB%E3%82%B4%E3%83%AA%E3%82%BA%E3%83%A0-/)"
   ]
  }
 ],
 "metadata": {
  "kernelspec": {
   "display_name": "Python 3",
   "language": "python",
   "name": "python3"
  },
  "language_info": {
   "codemirror_mode": {
    "name": "ipython",
    "version": 3
   },
   "file_extension": ".py",
   "mimetype": "text/x-python",
   "name": "python",
   "nbconvert_exporter": "python",
   "pygments_lexer": "ipython3",
   "version": "3.6.1"
  }
 },
 "nbformat": 4,
 "nbformat_minor": 2
}
