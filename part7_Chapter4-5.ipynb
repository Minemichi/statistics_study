{
 "cells": [
  {
   "cell_type": "markdown",
   "metadata": {
    "slideshow": {
     "slide_type": "slide"
    }
   },
   "source": [
    "# 7部\n",
    "## 4章"
   ]
  },
  {
   "cell_type": "markdown",
   "metadata": {
    "slideshow": {
     "slide_type": "slide"
    }
   },
   "source": [
    "### 4-3 単純パーセプトロン\n",
    "### 4-4 活性化関数\n",
    "(例)<br>\n",
    "入力ベクトル : $x_1, x_2, 1(bias)$<br>\n",
    "重み : $w_1, w_2, w_0$<br>\n",
    "活性化関数(ステップ関数) : $h(x) = -1(x \\leq 0), 1(x > 0)$<br>\n",
    "式 : $y = h(w_0 \\times 1 + w_1 \\times x_1 + w_2 \\times x_2)$\n",
    "\n",
    "単純パーセプトロンは線形識別モデル(2値)<br>\n",
    "ステップ関数は$h(X) = 0(x \\leq 0), 1(x > 0)$とされてる場合もある，要は出力が2値になる<br>\n",
    "\n",
    "活性化関数にはステップ関数の他にも，<br>\n",
    "- ロジスティック関数　$h(x) = \\frac{1}{1 + e^{-x}}$\n",
    "    - 値域0-1の連続値を出力する($tanhみたいな形$)\n",
    "- 恒等関数　$h(x) = x$\n",
    "- ReLU関数　$h(x) = 0(x \\leq 0), x(x > 0)$\n",
    "    - $h(x)$を微分したら1なので勾配消失対策になる\n",
    "    - 計算が早い\n",
    "    - 0が生まれるので重要な特徴量のみ計算できるらしい(次元削減的な)\n",
    "    \n",
    "微分の話は<br>\n",
    ">出力と目標ベクトルを比較し，損失が最小になるように重みが推定される\n",
    "\n",
    "の部分の話になるがこの本ではスコープ外…誤差逆伝播法でググろう！"
   ]
  },
  {
   "cell_type": "markdown",
   "metadata": {},
   "source": [
    "### 4-5 線形モデルからニューラルネットワークへ\n",
    "単純パーセプトロンの活性化関数をロジスティック関数に，損失を交差エントロピー誤差にする\n",
    "\n",
    "入力層はカウントしないはずなのでこの節の2層は1層の間違い(のはず)"
   ]
  },
  {
   "cell_type": "markdown",
   "metadata": {},
   "source": [
    "### 4-7 ニューラルネットワーク\n",
    "- 単純パーセプトロン(1層)\n",
    "- 多層パーセプトロン/ニューラルネットワーク(2~層)\n",
    "- ディープニューラルネットワーク/ディープネット(5層くらい~)\n",
    "\n",
    "- パーセプトロンを増やす→全結合\n",
    "- 畳み込み層を増やす→CNN\n",
    "- 再帰層→RNN\n",
    "\n",
    "この本では全結合のみスコープ"
   ]
  },
  {
   "cell_type": "markdown",
   "metadata": {},
   "source": [
    "### 4-10 分析の準備"
   ]
  },
  {
   "cell_type": "code",
   "execution_count": 2,
   "metadata": {},
   "outputs": [
    {
     "name": "stderr",
     "output_type": "stream",
     "text": [
      "/anaconda3/lib/python3.6/importlib/_bootstrap.py:219: RuntimeWarning: numpy.dtype size changed, may indicate binary incompatibility. Expected 96, got 88\n",
      "  return f(*args, **kwds)\n"
     ]
    },
    {
     "data": {
      "text/plain": [
       "'%.3f'"
      ]
     },
     "execution_count": 2,
     "metadata": {},
     "output_type": "execute_result"
    }
   ],
   "source": [
    "import numpy as np\n",
    "import pandas as pd\n",
    "import scipy as sp\n",
    "\n",
    "import statsmodels.formula.api as smf\n",
    "import statsmodels.api as sm\n",
    "\n",
    "from sklearn.neural_network import MLPClassifier\n",
    "from sklearn.datasets import load_iris\n",
    "from sklearn.model_selection import train_test_split\n",
    "from sklearn.preprocessing import StandardScaler\n",
    "\n",
    "%precision 3"
   ]
  },
  {
   "cell_type": "markdown",
   "metadata": {},
   "source": [
    "### 4-11 データの読み込みと整形"
   ]
  },
  {
   "cell_type": "code",
   "execution_count": 11,
   "metadata": {},
   "outputs": [
    {
     "name": "stdout",
     "output_type": "stream",
     "text": [
      "<class 'sklearn.utils.Bunch'>\n"
     ]
    },
    {
     "data": {
      "text/plain": [
       "['sepal length (cm)',\n",
       " 'sepal width (cm)',\n",
       " 'petal length (cm)',\n",
       " 'petal width (cm)']"
      ]
     },
     "execution_count": 11,
     "metadata": {},
     "output_type": "execute_result"
    }
   ],
   "source": [
    "iris = load_iris()\n",
    "print(type(iris))\n",
    "iris.feature_names"
   ]
  },
  {
   "cell_type": "code",
   "execution_count": 9,
   "metadata": {},
   "outputs": [
    {
     "data": {
      "text/plain": [
       "array(['setosa', 'versicolor', 'virginica'], dtype='<U10')"
      ]
     },
     "execution_count": 9,
     "metadata": {},
     "output_type": "execute_result"
    }
   ],
   "source": [
    "iris.target_names"
   ]
  },
  {
   "cell_type": "code",
   "execution_count": 12,
   "metadata": {},
   "outputs": [
    {
     "name": "stdout",
     "output_type": "stream",
     "text": [
      "(100, 2)\n",
      "(100,)\n"
     ]
    }
   ],
   "source": [
    "# 3種類中2種類の品種だけ使う, 4つの説明変数のうち2つだけ使う\n",
    "X = iris.data[50:150, 0:2]\n",
    "y = iris.target[50:150]\n",
    "\n",
    "print(X.shape)\n",
    "print(y.shape)"
   ]
  },
  {
   "cell_type": "code",
   "execution_count": 28,
   "metadata": {},
   "outputs": [
    {
     "name": "stdout",
     "output_type": "stream",
     "text": [
      "(75, 2)\n",
      "(75,)\n",
      "(25, 2)\n",
      "(25,)\n"
     ]
    }
   ],
   "source": [
    "X_train, X_test, y_train, y_test = train_test_split(X, y, random_state=98)\n",
    "print(X_train.shape)\n",
    "print(y_train.shape)\n",
    "print(X_test.shape)\n",
    "print(y_test.shape)"
   ]
  },
  {
   "cell_type": "markdown",
   "metadata": {},
   "source": [
    "train_test_split<br>\n",
    "https://scikit-learn.org/stable/modules/generated/sklearn.model_selection.train_test_split.html\n",
    "\n",
    "3変数以上をsplitすることもできる<br>\n",
    "`test_size=`でテストサイズを変えられる，デフォルト0.25"
   ]
  },
  {
   "cell_type": "markdown",
   "metadata": {},
   "source": [
    "### 4-12 ロジスティック回帰"
   ]
  },
  {
   "cell_type": "code",
   "execution_count": 30,
   "metadata": {
    "scrolled": true
   },
   "outputs": [
    {
     "data": {
      "text/plain": [
       "array([2, 1, 1, 2, 2, 1, 1, 1, 2, 1, 2, 2, 1, 1, 1, 1, 1, 1, 2, 2, 2, 1,\n",
       "       2, 1, 1, 2, 1, 2, 1, 2, 1, 1, 2, 2, 2, 1, 1, 1, 2, 2, 1, 2, 2, 1,\n",
       "       2, 1, 2, 1, 1, 2, 2, 1, 1, 2, 1, 2, 2, 1, 2, 1, 2, 2, 2, 1, 1, 1,\n",
       "       2, 2, 2, 2, 2, 2, 2, 1, 2])"
      ]
     },
     "execution_count": 30,
     "metadata": {},
     "output_type": "execute_result"
    }
   ],
   "source": [
    "y_train"
   ]
  },
  {
   "cell_type": "code",
   "execution_count": 31,
   "metadata": {},
   "outputs": [
    {
     "data": {
      "text/html": [
       "<div>\n",
       "<style scoped>\n",
       "    .dataframe tbody tr th:only-of-type {\n",
       "        vertical-align: middle;\n",
       "    }\n",
       "\n",
       "    .dataframe tbody tr th {\n",
       "        vertical-align: top;\n",
       "    }\n",
       "\n",
       "    .dataframe thead th {\n",
       "        text-align: right;\n",
       "    }\n",
       "</style>\n",
       "<table border=\"1\" class=\"dataframe\">\n",
       "  <thead>\n",
       "    <tr style=\"text-align: right;\">\n",
       "      <th></th>\n",
       "      <th>species</th>\n",
       "      <th>sepal_len</th>\n",
       "      <th>sepal_wid</th>\n",
       "    </tr>\n",
       "  </thead>\n",
       "  <tbody>\n",
       "    <tr>\n",
       "      <th>0</th>\n",
       "      <td>1</td>\n",
       "      <td>6.7</td>\n",
       "      <td>2.5</td>\n",
       "    </tr>\n",
       "    <tr>\n",
       "      <th>1</th>\n",
       "      <td>0</td>\n",
       "      <td>6.1</td>\n",
       "      <td>3.0</td>\n",
       "    </tr>\n",
       "    <tr>\n",
       "      <th>2</th>\n",
       "      <td>0</td>\n",
       "      <td>6.3</td>\n",
       "      <td>2.3</td>\n",
       "    </tr>\n",
       "    <tr>\n",
       "      <th>3</th>\n",
       "      <td>1</td>\n",
       "      <td>5.8</td>\n",
       "      <td>2.8</td>\n",
       "    </tr>\n",
       "    <tr>\n",
       "      <th>4</th>\n",
       "      <td>1</td>\n",
       "      <td>6.4</td>\n",
       "      <td>2.8</td>\n",
       "    </tr>\n",
       "  </tbody>\n",
       "</table>\n",
       "</div>"
      ],
      "text/plain": [
       "   species  sepal_len  sepal_wid\n",
       "0        1        6.7        2.5\n",
       "1        0        6.1        3.0\n",
       "2        0        6.3        2.3\n",
       "3        1        5.8        2.8\n",
       "4        1        6.4        2.8"
      ]
     },
     "execution_count": 31,
     "metadata": {},
     "output_type": "execute_result"
    }
   ],
   "source": [
    "X_train_df = pd.DataFrame(X_train, columns=[\"sepal_len\", \"sepal_wid\"])\n",
    "y_train_df = pd.DataFrame({\"species\" : y_train - 1})\n",
    "iris_train_df = pd.concat([y_train_df, X_train_df], axis=1)\n",
    "\n",
    "iris_train_df.head()"
   ]
  },
  {
   "cell_type": "code",
   "execution_count": 32,
   "metadata": {},
   "outputs": [
    {
     "name": "stdout",
     "output_type": "stream",
     "text": [
      "full 91.734\n",
      "len 89.94\n",
      "wid 101.003\n",
      "null 105.852\n"
     ]
    }
   ],
   "source": [
    "# 全ての変数を入れたモデル\n",
    "logi_mod_full = smf.glm(\"species ~ sepal_len + sepal_wid\", data=iris_train_df, family=sm.families.Binomial()).fit()\n",
    "\n",
    "# 長さのみ\n",
    "logi_mod_len = smf.glm(\"species ~ sepal_len\", data=iris_train_df, family=sm.families.Binomial()).fit()\n",
    "\n",
    "# 幅のみ\n",
    "logi_mod_wid = smf.glm(\"species ~ sepal_wid\", data=iris_train_df, family=sm.families.Binomial()).fit()\n",
    "\n",
    "# Nullモデル\n",
    "logi_mod_null = smf.glm(\"species ~ 1\", data=iris_train_df, family=sm.families.Binomial()).fit()\n",
    "\n",
    "# AICの比較\n",
    "print(\"full\", logi_mod_full.aic.round(3))\n",
    "print(\"len\", logi_mod_len.aic.round(3))\n",
    "print(\"wid\", logi_mod_wid.aic.round(3))\n",
    "print(\"null\", logi_mod_null.aic.round(3))"
   ]
  },
  {
   "cell_type": "code",
   "execution_count": 33,
   "metadata": {},
   "outputs": [
    {
     "data": {
      "text/html": [
       "<table class=\"simpletable\">\n",
       "<tr>\n",
       "      <td></td>         <th>coef</th>     <th>std err</th>      <th>z</th>      <th>P>|z|</th>  <th>[0.025</th>    <th>0.975]</th>  \n",
       "</tr>\n",
       "<tr>\n",
       "  <th>Intercept</th> <td>  -11.3444</td> <td>    3.190</td> <td>   -3.556</td> <td> 0.000</td> <td>  -17.598</td> <td>   -5.091</td>\n",
       "</tr>\n",
       "<tr>\n",
       "  <th>sepal_len</th> <td>    1.8288</td> <td>    0.510</td> <td>    3.583</td> <td> 0.000</td> <td>    0.828</td> <td>    2.829</td>\n",
       "</tr>\n",
       "</table>"
      ],
      "text/plain": [
       "<class 'statsmodels.iolib.table.SimpleTable'>"
      ]
     },
     "execution_count": 33,
     "metadata": {},
     "output_type": "execute_result"
    }
   ],
   "source": [
    "# coef : 係数\n",
    "logi_mod_len.summary().tables[1]"
   ]
  },
  {
   "cell_type": "code",
   "execution_count": 34,
   "metadata": {},
   "outputs": [
    {
     "name": "stdout",
     "output_type": "stream",
     "text": [
      "train :  0.7333333333333333\n",
      "test :  0.72\n"
     ]
    }
   ],
   "source": [
    "X_test_df = pd.DataFrame(X_test, columns=[\"sepal_len\", \"sepal_wid\"])\n",
    "\n",
    "logi_fit = logi_mod_len.fittedvalues.round(0)\n",
    "logi_pred = logi_mod_len.predict(X_test_df).round(0)\n",
    "\n",
    "# 正解数\n",
    "true_train = sp.sum(logi_fit == (y_train - 1))\n",
    "true_test = sp.sum(logi_pred == (y_test - 1))\n",
    "\n",
    "# 正解率\n",
    "print(\"train : \", true_train / len(y_train))\n",
    "print(\"test : \", true_test / len(y_test))"
   ]
  },
  {
   "cell_type": "markdown",
   "metadata": {},
   "source": [
    "### 4-13 標準化\n",
    "平均0，分散1にする"
   ]
  },
  {
   "cell_type": "code",
   "execution_count": 37,
   "metadata": {},
   "outputs": [
    {
     "name": "stdout",
     "output_type": "stream",
     "text": [
      "[6.7 2.5]\n",
      "[ 0.675 -1.08 ]\n"
     ]
    }
   ],
   "source": [
    "scaler = StandardScaler()\n",
    "scaler.fit(X_train)\n",
    "\n",
    "X_train_scaled = scaler.transform(X_train)\n",
    "X_test_scaled = scaler.transform(X_test)\n",
    "\n",
    "print(X_train[0])\n",
    "print(X_train_scaled[0])"
   ]
  },
  {
   "cell_type": "markdown",
   "metadata": {},
   "source": [
    "trainもtestも同じ変換器(scaler)で変換することでデータの対応が保持される"
   ]
  },
  {
   "cell_type": "code",
   "execution_count": 39,
   "metadata": {},
   "outputs": [
    {
     "name": "stdout",
     "output_type": "stream",
     "text": [
      "[1. 1.]\n",
      "[1.103 0.908]\n"
     ]
    }
   ],
   "source": [
    "print(sp.std(X_train_scaled, axis=0))\n",
    "print(sp.std(X_test_scaled, axis=0))"
   ]
  },
  {
   "cell_type": "markdown",
   "metadata": {},
   "source": [
    "### 4-14 ニューラルネットワーク"
   ]
  },
  {
   "cell_type": "code",
   "execution_count": 44,
   "metadata": {
    "scrolled": true
   },
   "outputs": [
    {
     "name": "stdout",
     "output_type": "stream",
     "text": [
      "train :  0.9066666666666666\n",
      "test :  0.6\n"
     ]
    }
   ],
   "source": [
    "nnet = MLPClassifier(hidden_layer_sizes=(100,100), alpha=0.07, max_iter=1000000, random_state=98)\n",
    "nnet.fit(X_train_scaled, y_train)\n",
    "\n",
    "print(\"train : \", nnet.score(X_train_scaled, y_train))\n",
    "print(\"test : \", nnet.score(X_test_scaled, y_test))"
   ]
  },
  {
   "cell_type": "markdown",
   "metadata": {},
   "source": [
    "### 4-15 線形モデルの利点・NNの利点\n",
    "- trainは高いがtestは低い．過学習．<br>\n",
    "- NNは解釈が難しい．<br>\n",
    "- なんでも深層学習はやめよう<br>"
   ]
  },
  {
   "cell_type": "markdown",
   "metadata": {
    "slideshow": {
     "slide_type": "slide"
    }
   },
   "source": [
    "# 7部\n",
    "## 5章"
   ]
  },
  {
   "cell_type": "markdown",
   "metadata": {
    "slideshow": {
     "slide_type": "slide"
    }
   },
   "source": [
    "### 5-1 数理的な側面を学ぶ　\n",
    "# 数学から逃げるな\n",
    "~~逃げたい~~"
   ]
  },
  {
   "cell_type": "markdown",
   "metadata": {},
   "source": [
    "### 5-2 古典的な「統計学入門」を学ぶ\n",
    "松原ほか(1991)<br>\n",
    "https://www.amazon.co.jp/統計学入門-基礎統計学Ⅰ-東京大学教養学部統計学教室/dp/4130420658\n",
    "\n",
    "大学の数学の教科書という感じ"
   ]
  },
  {
   "cell_type": "markdown",
   "metadata": {},
   "source": [
    "### 5-3 統計モデルを学ぶ\n",
    "久保(2012)<br>\n",
    "https://www.amazon.co.jp/データ解析のための統計モデリング入門――一般化線形モデル・階層ベイズモデル・MCMC-確率と情報の科学-久保-拓弥/dp/400006973X\n",
    "\n",
    "- 本の最後の方で少しやった「線形モデル」の詳細+続きの話\n",
    "- deviance(逸脱度)やAICもちゃんと解説してる\n",
    "    - Nullモデルの説明もちゃんとある\n",
    "    - Nullモデルはもっとも当てはまりが悪いモデルだからこれのdevianceから相対評価ができる…etc\n",
    "- 次読む一冊に良さそう\n",
    "    - まだ全部読めてない"
   ]
  },
  {
   "cell_type": "markdown",
   "metadata": {},
   "source": [
    "### 5-4 機械学習を学ぶ\n",
    "muller(2017)　→　Pythonではじめる機械学習<br>\n",
    "https://www.amazon.co.jp/Pythonではじめる機械学習-―scikit-learnで学ぶ特徴量エンジニアリングと機械学習の基礎-Andreas-C-Muller/dp/4873117984\n",
    "\n",
    "黄色い本は数学的な面が強いので　機械学習を学ぶ　とはまた違った感じ…全然読めてないけど"
   ]
  },
  {
   "cell_type": "markdown",
   "metadata": {},
   "source": [
    "### 5-5 モデルの評価方法を学ぶ\n",
    "- 機械学習は試行錯誤の繰り返し<br>\n",
    "- クロスバリデーションなどで汎化誤差を見る"
   ]
  },
  {
   "cell_type": "markdown",
   "metadata": {},
   "source": [
    "### 5-6 データサイエンス\n",
    "- この本はデータサイエンスの基礎です"
   ]
  }
 ],
 "metadata": {
  "kernelspec": {
   "display_name": "Python 3",
   "language": "python",
   "name": "python3"
  },
  "language_info": {
   "codemirror_mode": {
    "name": "ipython",
    "version": 3
   },
   "file_extension": ".py",
   "mimetype": "text/x-python",
   "name": "python",
   "nbconvert_exporter": "python",
   "pygments_lexer": "ipython3",
   "version": "3.6.5"
  }
 },
 "nbformat": 4,
 "nbformat_minor": 2
}
